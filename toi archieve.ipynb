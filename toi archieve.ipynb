{
 "cells": [
  {
   "cell_type": "code",
   "execution_count": 35,
   "metadata": {},
   "outputs": [],
   "source": [
    "import pandas as pd\n",
    "import selenium \n",
    "from selenium import webdriver "
   ]
  },
  {
   "cell_type": "code",
   "execution_count": 36,
   "metadata": {},
   "outputs": [],
   "source": [
    "driver=webdriver.Chrome(r\"C:\\Users\\Dell Laptop\\chromedriver.exe\")\n",
    "url='https://timesofindia.indiatimes.com/archive.cms'"
   ]
  },
  {
   "cell_type": "code",
   "execution_count": 37,
   "metadata": {},
   "outputs": [],
   "source": [
    "driver.get(url)"
   ]
  },
  {
   "cell_type": "code",
   "execution_count": 38,
   "metadata": {},
   "outputs": [],
   "source": [
    "Date=[]\n",
    "Author=[]\n",
    "Vertical=[]\n",
    "Headline=[]\n",
    "Description=[]"
   ]
  },
  {
   "cell_type": "code",
   "execution_count": 39,
   "metadata": {},
   "outputs": [],
   "source": [
    "may_button = driver.find_element_by_xpath('//div[@id=\"netspidersosh\"]/table[2]/tbody/tr[2]/td[1]/div[3]/table/tbody/tr[1]/td/span/div/strong/a[34]').get_attribute('href')\n",
    "driver.get(may_button)"
   ]
  },
  {
   "cell_type": "code",
   "execution_count": 40,
   "metadata": {},
   "outputs": [],
   "source": [
    "m1button = driver.find_element_by_xpath('//table[@id=\"calender\"]/tbody/tr[2]/td[3]/a').get_attribute('href')\n",
    "driver.get(m1button)\n"
   ]
  },
  {
   "cell_type": "code",
   "execution_count": 41,
   "metadata": {},
   "outputs": [
    {
     "data": {
      "text/plain": [
       "['Lucknowite Saurabh Tewari shoots for a serial in the city',\n",
       " \"A twist to Biju Menon's Rakshadhikari Baiju in real life: These youngsters in Alappuzha reclaimed their playground\",\n",
       " 'Capital punishment acts only as a deterrent for sexual assault: Bengaluru students',\n",
       " 'Metamorphosis: When dreams turn abysmal',\n",
       " 'If you don’t vote, then you don’t have the moral right to question: Prakash Raj',\n",
       " 'The prime time beauties of Malayalam TV',\n",
       " 'Audiences have accepted my skin tone, but the industry people haven’t: Gayathri Raja',\n",
       " 'Puppies sold ‘wholesale’ online, thanks to loophole in law',\n",
       " 'A dance drama on the life of Draupadi staged in Lucknow',\n",
       " 'Lucknowite Saurabh Tewari shoots for a serial in the city',\n",
       " 'Celebrating culture at MVJ Engineering College, Bengaluru',\n",
       " 'Puppies sold ‘wholesale’ online, thanks to loophole in law',\n",
       " '6 practices that colleges can put in place to help students de-stress',\n",
       " 'A dance drama on the life of Draupadi staged in Lucknow',\n",
       " 'Karthi and Suriya are genuine and gentle people: Rakul',\n",
       " 'Celebrating culture at MVJ Engineering College, Bengaluru',\n",
       " 'Josephine is the real name of actress Rekha',\n",
       " 'Catherine Tresa to romance Fahadh Faasil in her M’wood comeback',\n",
       " 'Kochi Times Most Desirable Woman on Television 2017: Malavika Wales',\n",
       " 'Football: Russian Premier League table',\n",
       " 'Thiruvananthapuram tops in rape cases',\n",
       " 'Foreign couple sets a model for ABC initiatives',\n",
       " 'Regulars flock shut ICH to see off ‘chettan’',\n",
       " 'Everyone wants a slice of AMRUT pie, corp runs for cover',\n",
       " 'No one can use anyone to further their careers; only talent matters: Tonushree Chakraborty',\n",
       " 'Speeding SUV crashes into roadside eatery, kills 1 & injures 3',\n",
       " 'Extended weekend brings more tourists',\n",
       " 'KMC to take possession of over 1,000 shops soon',\n",
       " 'Smart city board’s nod to pilot projects',\n",
       " '‘Hawkers carrying out business after 2014 to not be rehabilitated’',\n",
       " 'Beemapally, the big bazaar of the ’70s',\n",
       " 'History in Red zone: Essaying a triumph over the Reds in their bastion',\n",
       " 'Pune Municipal sets May 15 deadline to stop digging works on roads',\n",
       " '3 arrested for for fake cryptocurrency racket',\n",
       " 'Thieves on the prowl could spoil summer travel plans',\n",
       " 'Herd of bison trapped in well, rescued',\n",
       " 'Off to work: Rivers to cross, crocs to tackle',\n",
       " '‘Withdraw recognition of schools operating from unsafe buildings’',\n",
       " 'Blackout again in Chennai’s south, this time as Manali line snaps',\n",
       " 'Tamil Nadu medical council to issue notice to 48 doctors for misleading it',\n",
       " 'IPL betting racket busted, 5 held',\n",
       " 'Court extends police custody of two Delhi firm directors till May 2',\n",
       " 'NGO struggles to find home for disabled boy, 15',\n",
       " 'PCMC asks social groups to contribute to annual environment status report',\n",
       " 'IMA Tamil Nadu wing opposes mandatory credit hours for licence',\n",
       " 'Seven proposals grab attention at IIT-Madras incubator programme',\n",
       " 'KCB to distribute free garbage bins to 10,000 households',\n",
       " 'Kerala’s mindset has to change, development not a sin: Pinarayi Vijayan',\n",
       " 'VACB chief’s book dumps India’s intellectual acumen',\n",
       " 'Delhi: Suspecting affair, man kills wife, buries body in house',\n",
       " 'Signature Bridge gets a final push',\n",
       " 'Accident-free Day to create awareness',\n",
       " 'Farmers petition collector against Annur ring road project',\n",
       " 'Broke traffic rules? Pay fine using plastic money',\n",
       " 'Food safety officials to issue showcause notice to owner of gutka manufacturing unit',\n",
       " 'Mom unwilling, man seeks order to feed infant',\n",
       " 'Saving Upper Lake: CM kicks off tributary clean-up drive',\n",
       " 'Push for skill development at Delhi govt’s career conclave',\n",
       " 'In poll mode, BJP to implement its promises in next 2 months',\n",
       " 'Patient services won’t be affected by strike: AIIMS admin',\n",
       " 'Telangana CM lays foundation for Cong-inclusive ‘federal govt’',\n",
       " 'BJP ropes in Shivraj, Gehlot for campaigning in Karnataka',\n",
       " 'Cases of crime against women surge in April',\n",
       " 'Nath to take over PCC reins in mega road show today',\n",
       " 'Soon, express trains will stop at Byappanahalli station of Bengaluru',\n",
       " 'Kallazhagar takes dip in ‘flowing Vaigai’ after 2 years',\n",
       " '2 siblings, another child drown in pond in Tuticorin',\n",
       " 'Changes in pattern of train services',\n",
       " 'Two held for molesting women in Laxminagar',\n",
       " 'Petrol bombs hurled at RSS functionary’s house near Karaikudi',\n",
       " 'Man arrested for sexually assaulting 7-year-old girl',\n",
       " 'A paddy revival in the works in Kancheepuram',\n",
       " 'Manish Sisodia to visit on May 5',\n",
       " 'Women no longer spark laugh riot on screen',\n",
       " 'CM Jai Ram Thakur launches Ehsas for senior citizens in Kullu',\n",
       " 'PM keen to visit Spiti via tunnel',\n",
       " 'Santhanam panel gets 2 weeks more to file report',\n",
       " '220 street lights converted to LED in three months in Trichy',\n",
       " 'Court seeks response on plea to ban plastic materials',\n",
       " 'Poor water supply hits Shimla residents',\n",
       " 'Punjab to pay farmers relief for damage',\n",
       " 'CM Manohar Lal Khattar launches Gobar-Dhan scheme',\n",
       " 'Loose ropes cause Metro reinforcement bar to bend',\n",
       " 'All 9 schools under Southern Railway to be closed down',\n",
       " '2 charred to death as car catches fire',\n",
       " 'Defence ministry ready for land transfer as compensation',\n",
       " 'State adopts Centre’s model for startups',\n",
       " 'Infant’s death: HC notice to govt, Hisar MC',\n",
       " 'HC upholds sops for government doctors in remote areas',\n",
       " 'Hisar to get air link to Chandigarh, Delhi soon',\n",
       " 'Allies INLD, BSP plan meet to work out agenda',\n",
       " 'Punjab govt to compensate for damage to wheat on 793 acres',\n",
       " 'New courses in central varsity attract 20,000 more applications',\n",
       " 'AAP men fast against sugar mill machinery shifting',\n",
       " 'Phagwara Dalit leader held in assault case',\n",
       " 'Man, 66, stabs son, 28, to death',\n",
       " 'Reluctance to open completed arms of road over bridge adds to congestion',\n",
       " 'Body of student found',\n",
       " 'Tree felling: IFS officer to be charge-sheeted',\n",
       " 'Discontent over cabinet expansion continues in Congress',\n",
       " 'CUP team in final round of youth parliament',\n",
       " 'Gurdaspur man dies in accident in Saudi firm',\n",
       " 'Hafiz Saeed’s political outfit holds convention at Nankana Sahib',\n",
       " 'Hafiz Saeed’s political outfit holds convention at Nankana Sahib',\n",
       " 'Children Unable To Find Public Spaces For Playing In City Limits',\n",
       " '‘We are Sikhs’ in final list for Shorty Awards',\n",
       " 'Sikh history reorganised for ease of learning: CM Amarinder Singh',\n",
       " 'Chamba to get cement plant by October: MP',\n",
       " 'Athletics, swimming hot picks at camps',\n",
       " 'Trichy division all set to complete LED lighting across 154 stations',\n",
       " 'Sikh woman, grandparents die in US fire',\n",
       " 'Three labourers killed as bus rams two-wheeler',\n",
       " 'India, Pakistan revive Track II diplomacy',\n",
       " 'India, Pakistan revive Track II diplomacy',\n",
       " 'Uttam brace sends Churchill into semifinals of Goa Police Cup',\n",
       " 'Fearing chase, cab driver flees with Hoysala vehicle key',\n",
       " 'Why Jaipur reminds TV actor Ishtiyak Khan of his hometown, Panna',\n",
       " 'Why Jaipur reminds TV actor Ishtiyak Khan of his hometown, Panna',\n",
       " 'A bit of sightseeing and some dance for Shantanu in Pushkar',\n",
       " 'Stand-up comedian Balraj files police complaint over a missing cheque',\n",
       " \"Ekta Kaul: Sumeet and I haven't discussed marriage yet\",\n",
       " 'Hansal Mehta: I want to be fearless at 50! The only thing that holds us back from telling stories is fear',\n",
       " 'Meet Mumbai’s new exotic feathered friends',\n",
       " 'Karan Patel and Ankita Bhargava expecting their first baby',\n",
       " 'Bollywood turns brand ambassador for Indian weaves',\n",
       " 'Will go for re-elections in case of hung assembly: HD Kumaraswamy',\n",
       " 'Stand-up comedian Balraj files police complaint over a missing cheque',\n",
       " '102 Not Out is a family entertainer that has a universal connect',\n",
       " 'Bollywood turns brand ambassador for Indian weaves',\n",
       " 'SuMo: Raid trains to curb child trafficking',\n",
       " 'Two Mumbaikars connect with women across the globe to climb the mighty Mount Kilimanjaro',\n",
       " 'A bit of sightseeing and some dance for Shantanu in Pushkar',\n",
       " 'UP Cabinet minister Sidhartha Nath Singh begin 5-day US visit to woo investors',\n",
       " '‘Claims of electrifying all villages baseless’',\n",
       " 'No school to remain open in Ajmer after 12.30 pm',\n",
       " 'Schools to shut down by noon as heat wave sweeps Udaipur',\n",
       " 'Schools to shut down by noon as heat wave sweeps Udaipur',\n",
       " 'Madras HC refuses to favour medico’s grace marks plea',\n",
       " 'World Asthma Day: 77% patients can’t relate to word ‘asthma’, says survey',\n",
       " 'Graduation, BEd with same subject for teaching job: Rajasthan HC',\n",
       " 'Tractors deployed in illegal mining kill two in Alwar',\n",
       " 'Kota Corners a Major Chunk of Rankings',\n",
       " 'Jaipur loses its mojo this year',\n",
       " 'Panchayat staffer in soup over ‘bribe video’',\n",
       " 'Jayalalithaa death probe takes ‘political’ turn as leaders’ removal crops up',\n",
       " 'Deceased’s family demands probe against her husband',\n",
       " 'Virus research & diagnostic lab inaugurated at SMS medical College',\n",
       " 'Pakistani woman dies in Sikar',\n",
       " 'Youth attempts to kill girlfriend by slitting her throat at university, held',\n",
       " 'Dozens of women block Dalit groom’s wedding procession',\n",
       " 'Child dies after Army bunker collapses',\n",
       " 'Admit students denied seats last year: Madras HC',\n",
       " 'Preparations on to celebrate 20th anniversary of nuclear tests',\n",
       " 'Two youths arrested for raping minor girl in Kota',\n",
       " 'Agriculture minister Gajendra Shekhawat granted bail in 15-year-old case',\n",
       " 'CM Vasundhra Raje attends mass wedding of Meena community',\n",
       " 'MBA student held for trying to kill girlfriend',\n",
       " 'Mumbai: 59-year-old holidayer stuck in Turkey over shoplifting charge',\n",
       " 'NEET aspirant missing since Saturday',\n",
       " '25-year-old arrested for smuggling ganja worth Rs 7 lakh, car seized',\n",
       " 'Rights panel seeks report on sanitary pads in jails',\n",
       " 'Cases of traffic rule violations fall by half across Tamil Nadu in March',\n",
       " 'Students form network to teach street children',\n",
       " 'Stop clogging courts with frivolous cases, SC tells government',\n",
       " 'Court slams order by magistrate as illegal',\n",
       " '71,672km power cables to be replaced across Bihar in 3 years',\n",
       " 'Ride responsibly, enjoy life’s journey: Biker',\n",
       " 'Mass marriage ceremony for ‘poor’ couples in July',\n",
       " 'New DM office building DPR ready',\n",
       " '26 of 29 Abhayanand’s students pass JEE(M)',\n",
       " 'CM Nitish Kumar prays for peace on Buddha Jayanti',\n",
       " '8 lightning sensors to be set up in Patna soon',\n",
       " 'December deadline to electrify all households',\n",
       " 'More rain, thunderstorm likely over three-four days',\n",
       " 'Swati head girl of Bishop Scott school',\n",
       " 'Patna University: 4,000 submit online applications in five days',\n",
       " 'Three accidents claim 8 lives',\n",
       " 'JEE(M): Patna boy in Top 20',\n",
       " 'Rahul visits Lalu Prasad, invites criticism from JD(U)',\n",
       " \"Kathua crime a ‘minor issue', says new J&K deputy CM\",\n",
       " 'Six share top marks in JEE(M), Andhra boys first two after tiebreakers',\n",
       " 'First-ever Grievance Day held at Bapatla, sessions to be organised outside city as well',\n",
       " 'Make your mark in history: AU V-C tells graduating students',\n",
       " 'HRF demands CID investigate man’s suicide',\n",
       " 'Ex-DEO get 3 years’ RI',\n",
       " 'Balding cases on the rise among youths',\n",
       " 'Rabi ops hit as Godavari’s natural flow records ‘frightening’ low',\n",
       " 'After furore, Vijai Sardesai orders probe into land conversions',\n",
       " 'New Mandovi bridge may be inaugurated by October',\n",
       " 'Why no open jail for women inmates: HC',\n",
       " 'Woman kills self at nursing home',\n",
       " 'Plumber held for killing 65-year-old',\n",
       " 'Mop-up from VAT, GST above Rs 26,000 crore',\n",
       " 'HC seeks status report on Narela IFC from DDA',\n",
       " 'Car snatched near south Delhi flyover at knifepoint',\n",
       " 'Gaps in probe prompt court to absolve man of child rape',\n",
       " 'School time is the new office time: When classes end, chaos begins',\n",
       " 'Now, a Konkani Bible on your cellphone',\n",
       " 'Local shopping centres face sealing heat',\n",
       " 'Wonder boy pledges to rid city of plastic straws',\n",
       " 'AlinaSaldanha , Aldona BJP threaten to sue Goencho Avaaz',\n",
       " 'Panel fines hospital, 2 doctors for ‘unfair trade practice’',\n",
       " 'Fourth tiger census kicks off, will use app to record location',\n",
       " 'When 1,600 women put the pedal to the metal for a cause',\n",
       " 'Attorney of Cortalim comunidade suspended',\n",
       " 'From July, get monthly bus pass online',\n",
       " 'BJP accuses activist group of selective targeting',\n",
       " 'AIIMS discharges Lalu, supporters turn violent',\n",
       " 'Mumbai-Goa special trains introduced this summer',\n",
       " 'Power minister gets 15-day deadline to solve woes',\n",
       " 'Gosikhurd needs Rs 8,200crore in two years',\n",
       " 'Goa seeks time till October 30 to prepare coastal management plan',\n",
       " \"Report says Twitter sold users' data to CA researcher, company denies\",\n",
       " 'Dacoits kill petrol pump guard, loot Rs 13.56Lakh cash',\n",
       " '18-year-old held with 2kg ganja',\n",
       " 'Traffic jams plague road to Fort Aguada',\n",
       " 'Senamen create ruckus over Vidarbha during book launch',\n",
       " '50 government primary schools to be renovated',\n",
       " 'Gadchiroli collector orders magisterial inquiry into 2 encounters',\n",
       " 'Goa government wants to showcase work of local artists in major towns: Govind Gaude',\n",
       " 'CAC gets extension for one more month',\n",
       " 'Mining: Digambar quizzed, son-in-law also gets summons',\n",
       " 'Gujarat HC pulls up Ahmedabad Municipal again for shoddy road repair work',\n",
       " 'Ahmedabad municipal to scoop out parking spaces from gardens',\n",
       " 'Mercury crosses 42 degree celsius in eight towns of Gujarat',\n",
       " 'Swords come out in Bapunagar',\n",
       " 'Groups clash in Gomtipur',\n",
       " 'Kotak Bank Q4 net up 27% at Rs 1,789 crore, NPAs decline',\n",
       " 'State govt borrowings set to equal Centre’s for first time since 1991',\n",
       " 'Water-borne diseases rise with soaring temperatures',\n",
       " '3/4th of home buyers don’t know RERA is mandatory',\n",
       " 'Moratorium no restriction for insolvency proceedings against guarantors: NCLAT',\n",
       " 'Offbeat destinations drive summer travel',\n",
       " 'Water points in Greater Gir dry up',\n",
       " 'Two cops attacked in Anjar, Bhuj',\n",
       " 'Father-son duo die in accident',\n",
       " 'India Inc produces 1m 3-wheelers in FY18',\n",
       " 'Olpad BJP MLA, supporters gherao irrigation office',\n",
       " 'Pre-school principal arrested for branding three-year-old kid',\n",
       " 'GIDC curtails water supply to Dahej, Vilayat industries by 40%',\n",
       " 'Road accidents claim three lives in city',\n",
       " 'PE bids for 40% in Royal Sundaram',\n",
       " 'Discount brokers expand business on data, Aadhaar KYC',\n",
       " 'Parul Univ’s rape-accused founder gets 21 days bail',\n",
       " 'Buddha body prez backs their cause',\n",
       " 'Train derails, rail traffic disrupted',\n",
       " 'Two minor girls molested by kin',\n",
       " 'Five killed in truck-SUV collision',\n",
       " 'Youth hacked to death']"
      ]
     },
     "execution_count": 41,
     "metadata": {},
     "output_type": "execute_result"
    }
   ],
   "source": [
    "h1=driver.find_elements_by_xpath('/html/body/div[1]/table[2]/tbody/tr[2]/td[1]/div[3]/table/tbody/tr[2]/td[1]/span/a')\n",
    "for i in h1:\n",
    "    Headline.append(i.text)\n",
    "Headline    "
   ]
  },
  {
   "cell_type": "code",
   "execution_count": 43,
   "metadata": {},
   "outputs": [],
   "source": [
    "hbutton=driver.find_element_by_xpath('/html/body/div[1]/table[2]/tbody/tr[2]/td[1]/div[3]/table/tbody/tr[2]/td[1]/span/a[1]').get_attribute('href')\n",
    "driver.get(hbutton)"
   ]
  },
  {
   "cell_type": "code",
   "execution_count": 57,
   "metadata": {},
   "outputs": [
    {
     "data": {
      "text/plain": [
       "['Lucknowite Saurabh Tewari, producer of shows like Madhubala... and Rangrasiya, recently wrapped up the shoot of his upcoming TV show Krishna Chali London in the city. Saurabh, who is also directing this show, shot at several locations in Lucknow, including Safed Baradari, Residency, Mankameshwar Mandir, Paan Dariba, among others. The story has actor Gaurav Sarin of Ek Haseena Thi fame and Megha Chakraborty of\\nPeshwa Bajirao fame\\n, as leads while veteran actor Sushmita Mukherjee and Abhinandan Jindal will be seen portraying prominent characters.\\nTelling us more about the shooting experience in his hometown, Saurabh shared, \"Even though my story is based in Kanpur, I had to shoot in Lucknow for obvious reasons. This city is really close to my heart. Also, in Kanpur we hardly have locations to shoot. I have covered most parts of Lucknow in my serial. Even though the weather was really hot this time, we somehow managed to shoot.\"\\nGaurav, who came to Lucknow for the first time, said, \"Shooting in Lucknow has been an awesome experience. The city is so huge. The food in Lucknow is also yummy and even though it is quite oily, one gets temped to eat it. I have gained a lot of weight eating the food here.People in Lucknow are very interesting. Recently I went to explore old Lucknow and was roaming near Ghanta Ghar. I lost my way there and asked a passerby for directions. He explained me the way in a really interesting way. Mast log hain yaar yahan ke!\"\\nSaurabh Tewari in Lucknow (BCCL/ Aditya Yadav)\\nSaurabh Tewari in Lucknow (BCCL/ Aditya Yadav)\\nMegha Chakraborty and Gaurav Sarin during a scene at Mankameshwar Mandir in Lucknow (BCCL/ Aditya Yadav)\\nMegha Chakraborty and Gaurav Sarin during a scene at Mankameshwar Mandir in Lucknow (BCCL/ Aditya Yadav)\\nSushmita Mukherjee and Abhinandan Jindal shot for a scene at Mankameshwar temple in the city on Saturday morning (BCCL/ Aditya Yadav)\\nSushmita Mukherjee and Abhinandan Jindal shot for a scene at Mankameshwar temple in the city on Saturday morning (BCCL/ Aditya Yadav)',\n",
       " 'Baiju in the award-winning movie Rakshadhikari Baiju failed to save the ground where he and his friends grew up playing, from the clutches of concrete jungles. However, faced with a similar circumstance, a group of youngsters in Kayikkara, Alappuzha, didn’t relent.\\nThey got together under their arts and sports club to buy the 13.5 cent property that was set to be sold by its owner, by collecting money, pledging properties and jewelleries over a period of three months.\\nSreenath G S, the 28-year-old executive committee member of Brothers’ Arts and Sports Club, says, “We had a similar experience as Baiju and friends in the film, but in it they succumb to the financial and societal pressures. But we are not ready to give our playground away. We have been playing here since I remember. Everybody in this village has fond memories about the ground. Cricketer Prasanth Parameswaran began his tryst with cricket here.”\\n\\nThe ground has been maintained well by the youngsters and it has only served to increase its popularity over the years. “It is known as a cricket stadium across Alappuzha. We have also been conducting football and volleyball tournaments,” he says.\\nHowever, three months ago, they were hit with the hard truth, that their ground was being sold. “We thought it was poramboku land and didn’t in our wildest dreams think that somebody will take it away from us,” he says.\\nBut that’s what almost happened when a few strangers started building a fence around their playground. “When we enquired, they said that property belonged to Varghese from Paravoor and he had sold it to someone,” recollects Sreenath.\\n\\nHowever, the deal hadn’t gone through and the interested buyer told the youngsters that he was in two minds as he liked playing and didn’t want to buy a playground. While that came as a temporary relief, a few weeks later the owner’s party re-started building the fence and “when we objected, they filed a complaint against us for encroachment,” Sreenath says.\\nThe club members then decided to come to a compromise with the owner. “However, they said that they cannot give us the property as they can get `2 lakh per cent. After a lot of negotiations with the support of our panchayath president and ward member, they agreed to give us for `36,000 per cent. But the biggest challenge was that we had to give `2 lakh as advance in five days with the clause that if we fail, the ground will not be ours,” he says.\\nMost of the club members are labourers, but they did not want a building in place of a playground, says Sreenath. “However, in the first committee meeting, majority said they cannot afford to buy it as they are struggling to make both ends meet. Finally, a few agreed to give `10,000. And we collected nearly `1.5 lakh,” he says, adding that even a little boy donated `1,000 to the collection. Majority pledged their gold and borrowed on interest.\\nRakshadhikari Balachandran\\nOnce they submitted the advance, the next task was to make another `2 lakh. “We decided to ask villagers, who then donated `20,000. That is when Ajesh, one of our committee members and a teacher, said that he can take a personal loan and help. The rakshadhikari of our club, Balachandran, 58, said he can pledge his property and take a bank loan,” he says. Gathering every penny they could, the team managed to give the entire amount on April 25, five days before the promised date.\\n“Now, the playground is in our club’s name but still the struggle continues as we have a debt of `3 lakh. We are planning to donate `1,000 per month to clear the debt. We are confident that we will win ultimately and have no plans to give up,” he says.\\nSo, why go the whole nine yards for a selfless deed such as this? “It is for our next generation. What would they do if there is no ground for them to play? They will become couch potatoes and many would even take up drugs. We have already seen a few like that. Children need physical activities,” he says.']"
      ]
     },
     "execution_count": 57,
     "metadata": {},
     "output_type": "execute_result"
    }
   ],
   "source": [
    "des=driver.find_elements_by_xpath('//div[@id=\"app\"]/div/div[3]/div[1]/div[1]/div[2]/div[3]/div[2]/div[1]')\n",
    "for i in des:\n",
    "    Description.append(i.text)  \n",
    "Description    "
   ]
  },
  {
   "cell_type": "code",
   "execution_count": 54,
   "metadata": {},
   "outputs": [
    {
     "data": {
      "text/plain": [
       "['Akash Wadhwa', 'Anjana George']"
      ]
     },
     "execution_count": 54,
     "metadata": {},
     "output_type": "execute_result"
    }
   ],
   "source": [
    "writer=driver.find_elements_by_xpath('//div[@id=\"app\"]/div/div[3]/div[1]/div[1]/div[2]/div[2]/div/div[1]/span/a')\n",
    "for i in writer:\n",
    "    Author.append(i.text)\n",
    "Author    "
   ]
  },
  {
   "cell_type": "code",
   "execution_count": 55,
   "metadata": {},
   "outputs": [
    {
     "data": {
      "text/plain": [
       "['Akash Wadhwa | TNN | Updated: May 3, 2018, 18:03 IST',\n",
       " 'Anjana George | May 1, 2018, 00:00 IST']"
      ]
     },
     "execution_count": 55,
     "metadata": {},
     "output_type": "execute_result"
    }
   ],
   "source": [
    "d=driver.find_elements_by_xpath('//div[@id=\"app\"]/div/div[3]/div[1]/div[1]/div[2]/div[2]/div/div[1]')\n",
    "for i in d:\n",
    "    Date.append(i.text)\n",
    "Date    "
   ]
  },
  {
   "cell_type": "code",
   "execution_count": 58,
   "metadata": {},
   "outputs": [
    {
     "name": "stdout",
     "output_type": "stream",
     "text": [
      "249 2 2 2\n"
     ]
    }
   ],
   "source": [
    "print(len(Headline),len(Author),len(Date),len(Description))"
   ]
  },
  {
   "cell_type": "code",
   "execution_count": 59,
   "metadata": {},
   "outputs": [],
   "source": [
    "news=pd.DataFrame({})\n",
    "news['Headline']=Headline[:2]\n",
    "news['Author']=Author\n",
    "news['Date']=Date\n",
    "news['Description']=Description"
   ]
  },
  {
   "cell_type": "code",
   "execution_count": 60,
   "metadata": {},
   "outputs": [
    {
     "data": {
      "text/html": [
       "<div>\n",
       "<style scoped>\n",
       "    .dataframe tbody tr th:only-of-type {\n",
       "        vertical-align: middle;\n",
       "    }\n",
       "\n",
       "    .dataframe tbody tr th {\n",
       "        vertical-align: top;\n",
       "    }\n",
       "\n",
       "    .dataframe thead th {\n",
       "        text-align: right;\n",
       "    }\n",
       "</style>\n",
       "<table border=\"1\" class=\"dataframe\">\n",
       "  <thead>\n",
       "    <tr style=\"text-align: right;\">\n",
       "      <th></th>\n",
       "      <th>Headline</th>\n",
       "      <th>Author</th>\n",
       "      <th>Date</th>\n",
       "      <th>Description</th>\n",
       "    </tr>\n",
       "  </thead>\n",
       "  <tbody>\n",
       "    <tr>\n",
       "      <th>0</th>\n",
       "      <td>Lucknowite Saurabh Tewari shoots for a serial ...</td>\n",
       "      <td>Akash Wadhwa</td>\n",
       "      <td>Akash Wadhwa | TNN | Updated: May 3, 2018, 18:...</td>\n",
       "      <td>Lucknowite Saurabh Tewari, producer of shows l...</td>\n",
       "    </tr>\n",
       "    <tr>\n",
       "      <th>1</th>\n",
       "      <td>A twist to Biju Menon's Rakshadhikari Baiju in...</td>\n",
       "      <td>Anjana George</td>\n",
       "      <td>Anjana George | May 1, 2018, 00:00 IST</td>\n",
       "      <td>Baiju in the award-winning movie Rakshadhikari...</td>\n",
       "    </tr>\n",
       "  </tbody>\n",
       "</table>\n",
       "</div>"
      ],
      "text/plain": [
       "                                            Headline         Author  \\\n",
       "0  Lucknowite Saurabh Tewari shoots for a serial ...   Akash Wadhwa   \n",
       "1  A twist to Biju Menon's Rakshadhikari Baiju in...  Anjana George   \n",
       "\n",
       "                                                Date  \\\n",
       "0  Akash Wadhwa | TNN | Updated: May 3, 2018, 18:...   \n",
       "1             Anjana George | May 1, 2018, 00:00 IST   \n",
       "\n",
       "                                         Description  \n",
       "0  Lucknowite Saurabh Tewari, producer of shows l...  \n",
       "1  Baiju in the award-winning movie Rakshadhikari...  "
      ]
     },
     "execution_count": 60,
     "metadata": {},
     "output_type": "execute_result"
    }
   ],
   "source": [
    "news\n"
   ]
  },
  {
   "cell_type": "code",
   "execution_count": null,
   "metadata": {},
   "outputs": [],
   "source": []
  }
 ],
 "metadata": {
  "kernelspec": {
   "display_name": "Python 3",
   "language": "python",
   "name": "python3"
  },
  "language_info": {
   "codemirror_mode": {
    "name": "ipython",
    "version": 3
   },
   "file_extension": ".py",
   "mimetype": "text/x-python",
   "name": "python",
   "nbconvert_exporter": "python",
   "pygments_lexer": "ipython3",
   "version": "3.8.3"
  }
 },
 "nbformat": 4,
 "nbformat_minor": 4
}
