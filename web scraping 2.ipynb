{
 "cells": [
  {
   "cell_type": "code",
   "execution_count": null,
   "metadata": {},
   "outputs": [],
   "source": [
    "#!pip install selenium"
   ]
  },
  {
   "cell_type": "markdown",
   "metadata": {},
   "source": [
    "# 1.Data analyst at naukri.com"
   ]
  },
  {
   "cell_type": "code",
   "execution_count": 3,
   "metadata": {},
   "outputs": [],
   "source": [
    "import selenium\n",
    "from selenium import webdriver\n",
    "\n"
   ]
  },
  {
   "cell_type": "code",
   "execution_count": 4,
   "metadata": {},
   "outputs": [],
   "source": [
    "url=\"https://www.naukri.com/data-analyst-jobs-in-bangalore\""
   ]
  },
  {
   "cell_type": "code",
   "execution_count": 5,
   "metadata": {},
   "outputs": [],
   "source": [
    "driver=webdriver.Chrome(r\"C:\\Users\\Dell Laptop\\chromedriver.exe\")"
   ]
  },
  {
   "cell_type": "code",
   "execution_count": 6,
   "metadata": {},
   "outputs": [],
   "source": [
    "driver.get(url)"
   ]
  },
  {
   "cell_type": "code",
   "execution_count": 7,
   "metadata": {},
   "outputs": [],
   "source": [
    "job_title=[]\n",
    "job_location=[]\n",
    "company_name=[]\n",
    "experience_required=[]"
   ]
  },
  {
   "cell_type": "code",
   "execution_count": 8,
   "metadata": {},
   "outputs": [
    {
     "data": {
      "text/plain": [
       "[<selenium.webdriver.remote.webelement.WebElement (session=\"bd5cdb189b3627e7bdf0657fe7c0ad99\", element=\"b6112374-5403-4b1a-bdf0-cdf7db3e5594\")>,\n",
       " <selenium.webdriver.remote.webelement.WebElement (session=\"bd5cdb189b3627e7bdf0657fe7c0ad99\", element=\"2f84fc19-a6ce-4b40-9935-2bd00de01e8d\")>,\n",
       " <selenium.webdriver.remote.webelement.WebElement (session=\"bd5cdb189b3627e7bdf0657fe7c0ad99\", element=\"8d2bbf91-88e5-4c04-aac4-483158ab15d4\")>,\n",
       " <selenium.webdriver.remote.webelement.WebElement (session=\"bd5cdb189b3627e7bdf0657fe7c0ad99\", element=\"eb3718c5-5d1f-47e8-8eaf-54e77b9b544a\")>]"
      ]
     },
     "execution_count": 8,
     "metadata": {},
     "output_type": "execute_result"
    }
   ],
   "source": [
    "title_tag=driver.find_elements_by_xpath(\"//a[@class='title fw500 ellipsis']\")\n",
    "title_tag[0:4]"
   ]
  },
  {
   "cell_type": "code",
   "execution_count": 9,
   "metadata": {},
   "outputs": [
    {
     "data": {
      "text/plain": [
       "['Data Scientist/Data Analyst-immediate',\n",
       " 'Immediate openings For MIS executive /Data analyst For Bangalore',\n",
       " 'Data Analyst',\n",
       " 'Data Analyst',\n",
       " 'Data Analyst']"
      ]
     },
     "execution_count": 9,
     "metadata": {},
     "output_type": "execute_result"
    }
   ],
   "source": [
    "for i in title_tag:\n",
    "    title=i.text\n",
    "    job_title.append(title)\n",
    "    \n",
    "    \n",
    "job_title[:5]    "
   ]
  },
  {
   "cell_type": "code",
   "execution_count": 10,
   "metadata": {},
   "outputs": [
    {
     "data": {
      "text/plain": [
       "[<selenium.webdriver.remote.webelement.WebElement (session=\"bd5cdb189b3627e7bdf0657fe7c0ad99\", element=\"1d69b8a6-2a33-4eb2-86b1-eccd2c8147e7\")>,\n",
       " <selenium.webdriver.remote.webelement.WebElement (session=\"bd5cdb189b3627e7bdf0657fe7c0ad99\", element=\"8902e6f1-d253-4b51-892a-f70503b11d83\")>,\n",
       " <selenium.webdriver.remote.webelement.WebElement (session=\"bd5cdb189b3627e7bdf0657fe7c0ad99\", element=\"52ef615f-12f0-4106-bbce-403a27ecdbfc\")>,\n",
       " <selenium.webdriver.remote.webelement.WebElement (session=\"bd5cdb189b3627e7bdf0657fe7c0ad99\", element=\"43ab8755-ab9c-40f4-94cf-e79d358e5297\")>,\n",
       " <selenium.webdriver.remote.webelement.WebElement (session=\"bd5cdb189b3627e7bdf0657fe7c0ad99\", element=\"f66a3f51-41bd-4e79-b215-6f1751be6874\")>]"
      ]
     },
     "execution_count": 10,
     "metadata": {},
     "output_type": "execute_result"
    }
   ],
   "source": [
    "company_tag=driver.find_elements_by_xpath(r\"//a[@class='subTitle ellipsis fleft']\")\n",
    "company_tag[0:5]"
   ]
  },
  {
   "cell_type": "code",
   "execution_count": 11,
   "metadata": {},
   "outputs": [
    {
     "data": {
      "text/plain": [
       "['CAIA-Center For Artificial Intelligence & Advanced Analytics',\n",
       " 'RANDSTAD INDIA PVT LTD',\n",
       " 'Applied Materials',\n",
       " 'Cognizant Technology Solutions India Pvt Ltd',\n",
       " 'St. John’s Research Institute']"
      ]
     },
     "execution_count": 11,
     "metadata": {},
     "output_type": "execute_result"
    }
   ],
   "source": [
    "for i in company_tag:\n",
    "    company=i.text\n",
    "    company_name.append(company)\n",
    "    \n",
    "    \n",
    "company_name[:5]    \n",
    "    "
   ]
  },
  {
   "cell_type": "code",
   "execution_count": 12,
   "metadata": {},
   "outputs": [
    {
     "data": {
      "text/plain": [
       "[<selenium.webdriver.remote.webelement.WebElement (session=\"bd5cdb189b3627e7bdf0657fe7c0ad99\", element=\"d476e381-33ec-4565-b875-1ab062c72c27\")>,\n",
       " <selenium.webdriver.remote.webelement.WebElement (session=\"bd5cdb189b3627e7bdf0657fe7c0ad99\", element=\"c6d2a3ca-09f2-4e65-82ec-b8f2d938540b\")>,\n",
       " <selenium.webdriver.remote.webelement.WebElement (session=\"bd5cdb189b3627e7bdf0657fe7c0ad99\", element=\"c7004b03-b646-4c25-b290-ed7eb4b46e42\")>,\n",
       " <selenium.webdriver.remote.webelement.WebElement (session=\"bd5cdb189b3627e7bdf0657fe7c0ad99\", element=\"41c712bb-3161-4ed6-b46a-8eff311b7893\")>,\n",
       " <selenium.webdriver.remote.webelement.WebElement (session=\"bd5cdb189b3627e7bdf0657fe7c0ad99\", element=\"8c2821e4-fd68-4610-9448-1988751b162d\")>]"
      ]
     },
     "execution_count": 12,
     "metadata": {},
     "output_type": "execute_result"
    }
   ],
   "source": [
    "location_tag=driver.find_elements_by_xpath(\"//li[@class='fleft grey-text br2 placeHolderLi location']\")\n",
    "location_tag[:5]"
   ]
  },
  {
   "cell_type": "code",
   "execution_count": 13,
   "metadata": {},
   "outputs": [
    {
     "data": {
      "text/plain": [
       "['Chennai, Pune, Bengaluru, Hyderabad',\n",
       " 'Bengaluru',\n",
       " 'Bengaluru',\n",
       " 'Mumbai, Bengaluru, Hyderabad',\n",
       " 'Bengaluru',\n",
       " 'Bengaluru',\n",
       " 'Bengaluru(Koramangala)',\n",
       " 'Bengaluru',\n",
       " 'Bengaluru',\n",
       " 'Bengaluru, Kolkata',\n",
       " 'Bengaluru',\n",
       " 'Bengaluru',\n",
       " 'Bengaluru',\n",
       " 'Bengaluru',\n",
       " 'Bengaluru',\n",
       " 'Bengaluru',\n",
       " 'Bengaluru',\n",
       " 'Bengaluru',\n",
       " 'Bengaluru',\n",
       " 'Bengaluru']"
      ]
     },
     "execution_count": 13,
     "metadata": {},
     "output_type": "execute_result"
    }
   ],
   "source": [
    "for i in location_tag:\n",
    "    location=i.text\n",
    "    job_location.append(location)\n",
    "    \n",
    "    \n",
    "job_location    "
   ]
  },
  {
   "cell_type": "code",
   "execution_count": 14,
   "metadata": {},
   "outputs": [
    {
     "data": {
      "text/plain": [
       "[<selenium.webdriver.remote.webelement.WebElement (session=\"bd5cdb189b3627e7bdf0657fe7c0ad99\", element=\"b842dcf0-ae78-4ead-9d9f-b5dba149d7c9\")>,\n",
       " <selenium.webdriver.remote.webelement.WebElement (session=\"bd5cdb189b3627e7bdf0657fe7c0ad99\", element=\"118d277d-eaa2-4e9d-a396-a4908fc78c7d\")>,\n",
       " <selenium.webdriver.remote.webelement.WebElement (session=\"bd5cdb189b3627e7bdf0657fe7c0ad99\", element=\"3df458c5-f711-4cb0-bdd3-167bb42bdc8f\")>,\n",
       " <selenium.webdriver.remote.webelement.WebElement (session=\"bd5cdb189b3627e7bdf0657fe7c0ad99\", element=\"1e57b04c-eede-487b-be88-b23b615ae99a\")>,\n",
       " <selenium.webdriver.remote.webelement.WebElement (session=\"bd5cdb189b3627e7bdf0657fe7c0ad99\", element=\"ee9cc3af-9dc5-4ac4-b25e-136f09957494\")>]"
      ]
     },
     "execution_count": 14,
     "metadata": {},
     "output_type": "execute_result"
    }
   ],
   "source": [
    "exp_tag=driver.find_elements_by_xpath(\"//li[@class='fleft grey-text br2 placeHolderLi experience']\")\n",
    "exp_tag[:5]"
   ]
  },
  {
   "cell_type": "code",
   "execution_count": 15,
   "metadata": {},
   "outputs": [
    {
     "data": {
      "text/plain": [
       "['0-3 Yrs', '3-8 Yrs', '6-11 Yrs', '2-3 Yrs', '0-4 Yrs']"
      ]
     },
     "execution_count": 15,
     "metadata": {},
     "output_type": "execute_result"
    }
   ],
   "source": [
    "for i in exp_tag:\n",
    "    exp=i.text\n",
    "    experience_required.append(exp)\n",
    "    \n",
    "experience_required[0:5]    "
   ]
  },
  {
   "cell_type": "code",
   "execution_count": 16,
   "metadata": {},
   "outputs": [
    {
     "name": "stdout",
     "output_type": "stream",
     "text": [
      "20 20 20 20\n"
     ]
    }
   ],
   "source": [
    "print(len(job_title),len(job_location),len(company_name),len(experience_required))"
   ]
  },
  {
   "cell_type": "code",
   "execution_count": 17,
   "metadata": {},
   "outputs": [],
   "source": [
    "import pandas as pd\n",
    "jobs=pd.DataFrame({})\n",
    "jobs['title']=job_title[0:10]\n",
    "jobs['company']=company_name[0:10]\n",
    "jobs['location']=job_location[0:10]\n",
    "jobs['exprience']=experience_required[0:10]"
   ]
  },
  {
   "cell_type": "code",
   "execution_count": 18,
   "metadata": {},
   "outputs": [
    {
     "data": {
      "text/html": [
       "<div>\n",
       "<style scoped>\n",
       "    .dataframe tbody tr th:only-of-type {\n",
       "        vertical-align: middle;\n",
       "    }\n",
       "\n",
       "    .dataframe tbody tr th {\n",
       "        vertical-align: top;\n",
       "    }\n",
       "\n",
       "    .dataframe thead th {\n",
       "        text-align: right;\n",
       "    }\n",
       "</style>\n",
       "<table border=\"1\" class=\"dataframe\">\n",
       "  <thead>\n",
       "    <tr style=\"text-align: right;\">\n",
       "      <th></th>\n",
       "      <th>title</th>\n",
       "      <th>company</th>\n",
       "      <th>location</th>\n",
       "      <th>exprience</th>\n",
       "    </tr>\n",
       "  </thead>\n",
       "  <tbody>\n",
       "    <tr>\n",
       "      <th>0</th>\n",
       "      <td>Data Scientist/Data Analyst-immediate</td>\n",
       "      <td>CAIA-Center For Artificial Intelligence &amp; Adva...</td>\n",
       "      <td>Chennai, Pune, Bengaluru, Hyderabad</td>\n",
       "      <td>0-3 Yrs</td>\n",
       "    </tr>\n",
       "    <tr>\n",
       "      <th>1</th>\n",
       "      <td>Immediate openings For MIS executive /Data ana...</td>\n",
       "      <td>RANDSTAD INDIA PVT LTD</td>\n",
       "      <td>Bengaluru</td>\n",
       "      <td>3-8 Yrs</td>\n",
       "    </tr>\n",
       "    <tr>\n",
       "      <th>2</th>\n",
       "      <td>Data Analyst</td>\n",
       "      <td>Applied Materials</td>\n",
       "      <td>Bengaluru</td>\n",
       "      <td>6-11 Yrs</td>\n",
       "    </tr>\n",
       "    <tr>\n",
       "      <th>3</th>\n",
       "      <td>Data Analyst</td>\n",
       "      <td>Cognizant Technology Solutions India Pvt Ltd</td>\n",
       "      <td>Mumbai, Bengaluru, Hyderabad</td>\n",
       "      <td>2-3 Yrs</td>\n",
       "    </tr>\n",
       "    <tr>\n",
       "      <th>4</th>\n",
       "      <td>Data Analyst</td>\n",
       "      <td>St. John’s Research Institute</td>\n",
       "      <td>Bengaluru</td>\n",
       "      <td>0-4 Yrs</td>\n",
       "    </tr>\n",
       "    <tr>\n",
       "      <th>5</th>\n",
       "      <td>Data Analyst</td>\n",
       "      <td>Siemens Limited</td>\n",
       "      <td>Bengaluru</td>\n",
       "      <td>0-3 Yrs</td>\n",
       "    </tr>\n",
       "    <tr>\n",
       "      <th>6</th>\n",
       "      <td>Procurement Data Analyst ( 0.6 To 3 Yrs, Banga...</td>\n",
       "      <td>Sunstream Global Technologies LLP</td>\n",
       "      <td>Bengaluru(Koramangala)</td>\n",
       "      <td>0-3 Yrs</td>\n",
       "    </tr>\n",
       "    <tr>\n",
       "      <th>7</th>\n",
       "      <td>ID&amp;A - Data Analyst - Informatica MDM</td>\n",
       "      <td>Shell India Markets Private Limited</td>\n",
       "      <td>Bengaluru</td>\n",
       "      <td>6-9 Yrs</td>\n",
       "    </tr>\n",
       "    <tr>\n",
       "      <th>8</th>\n",
       "      <td>Data Analyst</td>\n",
       "      <td>GlaxoSmithKline Pharmaceuticals Limited</td>\n",
       "      <td>Bengaluru</td>\n",
       "      <td>2-7 Yrs</td>\n",
       "    </tr>\n",
       "    <tr>\n",
       "      <th>9</th>\n",
       "      <td>Data Analyst</td>\n",
       "      <td>Cognizant Technology Solutions India Pvt Ltd</td>\n",
       "      <td>Bengaluru, Kolkata</td>\n",
       "      <td>3-4 Yrs</td>\n",
       "    </tr>\n",
       "  </tbody>\n",
       "</table>\n",
       "</div>"
      ],
      "text/plain": [
       "                                               title  \\\n",
       "0              Data Scientist/Data Analyst-immediate   \n",
       "1  Immediate openings For MIS executive /Data ana...   \n",
       "2                                       Data Analyst   \n",
       "3                                       Data Analyst   \n",
       "4                                       Data Analyst   \n",
       "5                                       Data Analyst   \n",
       "6  Procurement Data Analyst ( 0.6 To 3 Yrs, Banga...   \n",
       "7              ID&A - Data Analyst - Informatica MDM   \n",
       "8                                       Data Analyst   \n",
       "9                                       Data Analyst   \n",
       "\n",
       "                                             company  \\\n",
       "0  CAIA-Center For Artificial Intelligence & Adva...   \n",
       "1                             RANDSTAD INDIA PVT LTD   \n",
       "2                                  Applied Materials   \n",
       "3       Cognizant Technology Solutions India Pvt Ltd   \n",
       "4                      St. John’s Research Institute   \n",
       "5                                    Siemens Limited   \n",
       "6                  Sunstream Global Technologies LLP   \n",
       "7                Shell India Markets Private Limited   \n",
       "8            GlaxoSmithKline Pharmaceuticals Limited   \n",
       "9       Cognizant Technology Solutions India Pvt Ltd   \n",
       "\n",
       "                              location exprience  \n",
       "0  Chennai, Pune, Bengaluru, Hyderabad   0-3 Yrs  \n",
       "1                            Bengaluru   3-8 Yrs  \n",
       "2                            Bengaluru  6-11 Yrs  \n",
       "3         Mumbai, Bengaluru, Hyderabad   2-3 Yrs  \n",
       "4                            Bengaluru   0-4 Yrs  \n",
       "5                            Bengaluru   0-3 Yrs  \n",
       "6               Bengaluru(Koramangala)   0-3 Yrs  \n",
       "7                            Bengaluru   6-9 Yrs  \n",
       "8                            Bengaluru   2-7 Yrs  \n",
       "9                   Bengaluru, Kolkata   3-4 Yrs  "
      ]
     },
     "execution_count": 18,
     "metadata": {},
     "output_type": "execute_result"
    }
   ],
   "source": [
    "jobs"
   ]
  },
  {
   "cell_type": "code",
   "execution_count": null,
   "metadata": {},
   "outputs": [],
   "source": []
  },
  {
   "cell_type": "markdown",
   "metadata": {},
   "source": [
    "# 2.Data scientist job at naukri.com"
   ]
  },
  {
   "cell_type": "code",
   "execution_count": 19,
   "metadata": {},
   "outputs": [],
   "source": [
    "url2='https://www.naukri.com/data-scientist-jobs-in-bangalore?k=data%20scientist&l=bangalore'"
   ]
  },
  {
   "cell_type": "code",
   "execution_count": 20,
   "metadata": {},
   "outputs": [],
   "source": [
    "driver=webdriver.Chrome(r\"C:\\Users\\Dell Laptop\\chromedriver.exe\")"
   ]
  },
  {
   "cell_type": "code",
   "execution_count": 21,
   "metadata": {},
   "outputs": [],
   "source": [
    "driver.get(url2)"
   ]
  },
  {
   "cell_type": "code",
   "execution_count": 22,
   "metadata": {},
   "outputs": [],
   "source": [
    "job_title=[]\n",
    "job_location=[]\n",
    "company_name=[]\n",
    "job_description=[]"
   ]
  },
  {
   "cell_type": "code",
   "execution_count": 23,
   "metadata": {},
   "outputs": [
    {
     "data": {
      "text/plain": [
       "[<selenium.webdriver.remote.webelement.WebElement (session=\"69bb4716e1e64efe252267b6d5e078c7\", element=\"9f83688f-354d-47bd-9716-007a53fb1fd1\")>,\n",
       " <selenium.webdriver.remote.webelement.WebElement (session=\"69bb4716e1e64efe252267b6d5e078c7\", element=\"5259a36e-b1d2-4dfe-9583-ba8b5314e164\")>,\n",
       " <selenium.webdriver.remote.webelement.WebElement (session=\"69bb4716e1e64efe252267b6d5e078c7\", element=\"cf38849e-0d66-4445-a289-69d87d6330e0\")>,\n",
       " <selenium.webdriver.remote.webelement.WebElement (session=\"69bb4716e1e64efe252267b6d5e078c7\", element=\"6576cce7-e921-4531-bcee-4cb24a054693\")>]"
      ]
     },
     "execution_count": 23,
     "metadata": {},
     "output_type": "execute_result"
    }
   ],
   "source": [
    "title_tag=driver.find_elements_by_xpath(\"//a[@class='title fw500 ellipsis']\")\n",
    "title_tag[0:4]"
   ]
  },
  {
   "cell_type": "code",
   "execution_count": 24,
   "metadata": {},
   "outputs": [
    {
     "data": {
      "text/plain": [
       "['Data Scientist/Data Analyst-immediate',\n",
       " 'HCL hiring Data scientist with exp in machine learning &SQL-Bangalore!',\n",
       " 'Data Scientist - Machine Learning',\n",
       " 'Data Scientist - Machine Learning',\n",
       " 'Data Scientist - Machine Learning']"
      ]
     },
     "execution_count": 24,
     "metadata": {},
     "output_type": "execute_result"
    }
   ],
   "source": [
    "for i in title_tag:\n",
    "    title=i.text\n",
    "    job_title.append(title)\n",
    "    \n",
    "    \n",
    "job_title[:5]    "
   ]
  },
  {
   "cell_type": "code",
   "execution_count": 25,
   "metadata": {},
   "outputs": [
    {
     "data": {
      "text/plain": [
       "[<selenium.webdriver.remote.webelement.WebElement (session=\"69bb4716e1e64efe252267b6d5e078c7\", element=\"c0d177dd-2390-4604-85b5-0cc96661d3d4\")>,\n",
       " <selenium.webdriver.remote.webelement.WebElement (session=\"69bb4716e1e64efe252267b6d5e078c7\", element=\"c277f8cf-8287-4109-b8b8-bb6e92e92b71\")>,\n",
       " <selenium.webdriver.remote.webelement.WebElement (session=\"69bb4716e1e64efe252267b6d5e078c7\", element=\"8e3924f3-39b5-418b-acb9-864a21422d14\")>,\n",
       " <selenium.webdriver.remote.webelement.WebElement (session=\"69bb4716e1e64efe252267b6d5e078c7\", element=\"191e1702-ca8e-4016-ae3d-031fbda60432\")>,\n",
       " <selenium.webdriver.remote.webelement.WebElement (session=\"69bb4716e1e64efe252267b6d5e078c7\", element=\"569fecfb-421a-4591-8e9c-74bedcc8a23f\")>]"
      ]
     },
     "execution_count": 25,
     "metadata": {},
     "output_type": "execute_result"
    }
   ],
   "source": [
    "company_tag=driver.find_elements_by_xpath(r\"//a[@class='subTitle ellipsis fleft']\")\n",
    "company_tag[0:5]"
   ]
  },
  {
   "cell_type": "code",
   "execution_count": 26,
   "metadata": {},
   "outputs": [
    {
     "data": {
      "text/plain": [
       "['CAIA-Center For Artificial Intelligence & Advanced Analytics',\n",
       " 'HCL Technologies Limited',\n",
       " 'AugmatrixGo',\n",
       " 'BLUE YONDER INDIA PRIVATE LIMITED',\n",
       " 'BLUE YONDER INDIA PRIVATE LIMITED']"
      ]
     },
     "execution_count": 26,
     "metadata": {},
     "output_type": "execute_result"
    }
   ],
   "source": [
    "for i in company_tag:\n",
    "    company=i.text\n",
    "    company_name.append(company)\n",
    "    \n",
    "    \n",
    "company_name[:5]    "
   ]
  },
  {
   "cell_type": "code",
   "execution_count": 27,
   "metadata": {},
   "outputs": [
    {
     "data": {
      "text/plain": [
       "[<selenium.webdriver.remote.webelement.WebElement (session=\"69bb4716e1e64efe252267b6d5e078c7\", element=\"070c13ed-ee8e-405a-976a-717556b0da88\")>,\n",
       " <selenium.webdriver.remote.webelement.WebElement (session=\"69bb4716e1e64efe252267b6d5e078c7\", element=\"a685a8aa-7254-4faa-a709-3f08fa14e065\")>,\n",
       " <selenium.webdriver.remote.webelement.WebElement (session=\"69bb4716e1e64efe252267b6d5e078c7\", element=\"1003044c-d672-4be5-936f-2543564f4e9b\")>,\n",
       " <selenium.webdriver.remote.webelement.WebElement (session=\"69bb4716e1e64efe252267b6d5e078c7\", element=\"dd838712-ca44-4d23-a825-8174b3d583ed\")>,\n",
       " <selenium.webdriver.remote.webelement.WebElement (session=\"69bb4716e1e64efe252267b6d5e078c7\", element=\"5be15f75-7b1d-4ead-8c2c-310cb892ee48\")>]"
      ]
     },
     "execution_count": 27,
     "metadata": {},
     "output_type": "execute_result"
    }
   ],
   "source": [
    "location_tag=driver.find_elements_by_xpath(\"//li[@class='fleft grey-text br2 placeHolderLi location']\")\n",
    "location_tag[:5]"
   ]
  },
  {
   "cell_type": "code",
   "execution_count": 28,
   "metadata": {},
   "outputs": [
    {
     "data": {
      "text/plain": [
       "['Chennai, Pune, Bengaluru, Hyderabad',\n",
       " 'Bengaluru',\n",
       " 'Bengaluru',\n",
       " 'Bengaluru',\n",
       " 'Bengaluru',\n",
       " 'Bengaluru / Bangalore',\n",
       " 'Delhi NCR, Bengaluru, Anywhere in India',\n",
       " 'Bengaluru',\n",
       " 'Bengaluru',\n",
       " 'Bengaluru',\n",
       " 'Bengaluru',\n",
       " 'Bengaluru',\n",
       " 'Bengaluru',\n",
       " 'Mumbai, Bengaluru',\n",
       " 'Chennai, Mumbai, Bengaluru, Hyderabad',\n",
       " 'Bengaluru',\n",
       " 'Bengaluru',\n",
       " 'Bengaluru',\n",
       " 'Delhi NCR, Mumbai, Bengaluru',\n",
       " 'Bengaluru']"
      ]
     },
     "execution_count": 28,
     "metadata": {},
     "output_type": "execute_result"
    }
   ],
   "source": [
    "for i in location_tag:\n",
    "    location=i.text\n",
    "    job_location.append(location)\n",
    "    \n",
    "    \n",
    "job_location    "
   ]
  },
  {
   "cell_type": "code",
   "execution_count": 29,
   "metadata": {},
   "outputs": [
    {
     "data": {
      "text/plain": [
       "[<selenium.webdriver.remote.webelement.WebElement (session=\"69bb4716e1e64efe252267b6d5e078c7\", element=\"2ddf12de-9aa7-4254-8eb6-86ffec4a2027\")>,\n",
       " <selenium.webdriver.remote.webelement.WebElement (session=\"69bb4716e1e64efe252267b6d5e078c7\", element=\"be7d8cda-eade-4946-8d17-dffc156d72e6\")>,\n",
       " <selenium.webdriver.remote.webelement.WebElement (session=\"69bb4716e1e64efe252267b6d5e078c7\", element=\"30afba14-2150-4b37-885a-f7d84cf495e4\")>,\n",
       " <selenium.webdriver.remote.webelement.WebElement (session=\"69bb4716e1e64efe252267b6d5e078c7\", element=\"8e1d94f4-92eb-4e3d-9396-6e5e275d75ef\")>,\n",
       " <selenium.webdriver.remote.webelement.WebElement (session=\"69bb4716e1e64efe252267b6d5e078c7\", element=\"b9dd6638-e3a9-438b-882b-e22fab736f6f\")>,\n",
       " <selenium.webdriver.remote.webelement.WebElement (session=\"69bb4716e1e64efe252267b6d5e078c7\", element=\"1a3095b0-d984-40ee-ac9f-7615f8a7a0ca\")>,\n",
       " <selenium.webdriver.remote.webelement.WebElement (session=\"69bb4716e1e64efe252267b6d5e078c7\", element=\"e31830c0-3017-4144-8126-4cb481c0012e\")>,\n",
       " <selenium.webdriver.remote.webelement.WebElement (session=\"69bb4716e1e64efe252267b6d5e078c7\", element=\"f2213d14-441f-45dd-b923-0315f4f49918\")>,\n",
       " <selenium.webdriver.remote.webelement.WebElement (session=\"69bb4716e1e64efe252267b6d5e078c7\", element=\"cc9b2b52-73d3-4070-8245-65d579c91e31\")>,\n",
       " <selenium.webdriver.remote.webelement.WebElement (session=\"69bb4716e1e64efe252267b6d5e078c7\", element=\"177c8c2d-92f4-4154-8357-c8da0317035a\")>,\n",
       " <selenium.webdriver.remote.webelement.WebElement (session=\"69bb4716e1e64efe252267b6d5e078c7\", element=\"37522197-ed77-4b20-a11a-2c49eab4b277\")>,\n",
       " <selenium.webdriver.remote.webelement.WebElement (session=\"69bb4716e1e64efe252267b6d5e078c7\", element=\"255d2990-c0fd-4b9b-bd18-d4745be83aa3\")>,\n",
       " <selenium.webdriver.remote.webelement.WebElement (session=\"69bb4716e1e64efe252267b6d5e078c7\", element=\"c625d559-4d80-497c-bc8f-e68edce7d220\")>,\n",
       " <selenium.webdriver.remote.webelement.WebElement (session=\"69bb4716e1e64efe252267b6d5e078c7\", element=\"2866863d-48fc-4ae1-95c9-2ef5eb2034dc\")>,\n",
       " <selenium.webdriver.remote.webelement.WebElement (session=\"69bb4716e1e64efe252267b6d5e078c7\", element=\"8bcd0f1e-df7e-4ef4-a147-6f4a4de9f418\")>,\n",
       " <selenium.webdriver.remote.webelement.WebElement (session=\"69bb4716e1e64efe252267b6d5e078c7\", element=\"74fb7465-248e-4fd2-b4e2-48d877bede25\")>,\n",
       " <selenium.webdriver.remote.webelement.WebElement (session=\"69bb4716e1e64efe252267b6d5e078c7\", element=\"af47e905-567f-4d9a-83da-f0ccd1a86c06\")>,\n",
       " <selenium.webdriver.remote.webelement.WebElement (session=\"69bb4716e1e64efe252267b6d5e078c7\", element=\"c7c65bef-d9a8-4850-b64d-437c4a64e0b5\")>,\n",
       " <selenium.webdriver.remote.webelement.WebElement (session=\"69bb4716e1e64efe252267b6d5e078c7\", element=\"2a04c10b-7d53-45c1-9069-a580ad881825\")>,\n",
       " <selenium.webdriver.remote.webelement.WebElement (session=\"69bb4716e1e64efe252267b6d5e078c7\", element=\"c390435e-918b-4c47-a448-9edb00f2025c\")>]"
      ]
     },
     "execution_count": 29,
     "metadata": {},
     "output_type": "execute_result"
    }
   ],
   "source": [
    "des_tag=driver.find_elements_by_xpath(\"//div[@class='job-description fs12 grey-text']\")\n",
    "des_tag"
   ]
  },
  {
   "cell_type": "code",
   "execution_count": 30,
   "metadata": {},
   "outputs": [
    {
     "data": {
      "text/plain": [
       "['In case you are trying to shift your career to Analytics and / or AI domain please do c...',\n",
       " 'Experience of end to end implementation of predictive analytics projects for at least 1...',\n",
       " 'BTech / MTech degree in from reputed institutes like IIT / NIT / BITSSkills Required : ...',\n",
       " 'Roles and ResponsibilitiesUnder guidance, or independently, design and implement machin...']"
      ]
     },
     "execution_count": 30,
     "metadata": {},
     "output_type": "execute_result"
    }
   ],
   "source": [
    "for i in des_tag:\n",
    "    des=i.text\n",
    "    job_description.append(des)\n",
    "    \n",
    "    \n",
    "job_description[:4]    "
   ]
  },
  {
   "cell_type": "code",
   "execution_count": 31,
   "metadata": {},
   "outputs": [
    {
     "name": "stdout",
     "output_type": "stream",
     "text": [
      "20 20 20 20\n"
     ]
    }
   ],
   "source": [
    "print(len(job_title),len(job_location),len(company_name),len(job_description))"
   ]
  },
  {
   "cell_type": "code",
   "execution_count": 32,
   "metadata": {},
   "outputs": [],
   "source": [
    "import pandas as pd\n",
    "data_scientistjobs=pd.DataFrame({})\n",
    "data_scientistjobs['title']=job_title[0:10]\n",
    "data_scientistjobs['company']=company_name[0:10]\n",
    "data_scientistjobs['location']=job_location[0:10]\n",
    "data_scientistjobs['description']=job_description[0:10]"
   ]
  },
  {
   "cell_type": "code",
   "execution_count": 33,
   "metadata": {},
   "outputs": [
    {
     "data": {
      "text/html": [
       "<div>\n",
       "<style scoped>\n",
       "    .dataframe tbody tr th:only-of-type {\n",
       "        vertical-align: middle;\n",
       "    }\n",
       "\n",
       "    .dataframe tbody tr th {\n",
       "        vertical-align: top;\n",
       "    }\n",
       "\n",
       "    .dataframe thead th {\n",
       "        text-align: right;\n",
       "    }\n",
       "</style>\n",
       "<table border=\"1\" class=\"dataframe\">\n",
       "  <thead>\n",
       "    <tr style=\"text-align: right;\">\n",
       "      <th></th>\n",
       "      <th>title</th>\n",
       "      <th>company</th>\n",
       "      <th>location</th>\n",
       "      <th>description</th>\n",
       "    </tr>\n",
       "  </thead>\n",
       "  <tbody>\n",
       "    <tr>\n",
       "      <th>0</th>\n",
       "      <td>Data Scientist/Data Analyst-immediate</td>\n",
       "      <td>CAIA-Center For Artificial Intelligence &amp; Adva...</td>\n",
       "      <td>Chennai, Pune, Bengaluru, Hyderabad</td>\n",
       "      <td>In case you are trying to shift your career to...</td>\n",
       "    </tr>\n",
       "    <tr>\n",
       "      <th>1</th>\n",
       "      <td>HCL hiring Data scientist with exp in machine ...</td>\n",
       "      <td>HCL Technologies Limited</td>\n",
       "      <td>Bengaluru</td>\n",
       "      <td>Experience of end to end implementation of pre...</td>\n",
       "    </tr>\n",
       "    <tr>\n",
       "      <th>2</th>\n",
       "      <td>Data Scientist - Machine Learning</td>\n",
       "      <td>AugmatrixGo</td>\n",
       "      <td>Bengaluru</td>\n",
       "      <td>BTech / MTech degree in from reputed institute...</td>\n",
       "    </tr>\n",
       "    <tr>\n",
       "      <th>3</th>\n",
       "      <td>Data Scientist - Machine Learning</td>\n",
       "      <td>BLUE YONDER INDIA PRIVATE LIMITED</td>\n",
       "      <td>Bengaluru</td>\n",
       "      <td>Roles and ResponsibilitiesUnder guidance, or i...</td>\n",
       "    </tr>\n",
       "    <tr>\n",
       "      <th>4</th>\n",
       "      <td>Data Scientist - Machine Learning</td>\n",
       "      <td>BLUE YONDER INDIA PRIVATE LIMITED</td>\n",
       "      <td>Bengaluru</td>\n",
       "      <td>Experience working with some of the following ...</td>\n",
       "    </tr>\n",
       "    <tr>\n",
       "      <th>5</th>\n",
       "      <td>Software Developer - Data Scientist / NLP / Ma...</td>\n",
       "      <td>Cunesoft India Private Limited</td>\n",
       "      <td>Bengaluru / Bangalore</td>\n",
       "      <td>Roles and Responsibilities We are looking for ...</td>\n",
       "    </tr>\n",
       "    <tr>\n",
       "      <th>6</th>\n",
       "      <td>Data Scientist - Machine Learning - Remote Wor...</td>\n",
       "      <td>Doji Ltd</td>\n",
       "      <td>Delhi NCR, Bengaluru, Anywhere in India</td>\n",
       "      <td>Direct experience in performing statistical an...</td>\n",
       "    </tr>\n",
       "    <tr>\n",
       "      <th>7</th>\n",
       "      <td>Data Scientist</td>\n",
       "      <td>GENPACT India Private Limited</td>\n",
       "      <td>Bengaluru</td>\n",
       "      <td>We are inviting applications for the role of D...</td>\n",
       "    </tr>\n",
       "    <tr>\n",
       "      <th>8</th>\n",
       "      <td>Data Scientist (Healthcare/Pharma Domain prefe...</td>\n",
       "      <td>GENPACT India Private Limited</td>\n",
       "      <td>Bengaluru</td>\n",
       "      <td>Should have expertise on predictive modeling t...</td>\n",
       "    </tr>\n",
       "    <tr>\n",
       "      <th>9</th>\n",
       "      <td>Tech Mahindra hiring For Data Scientist- Banga...</td>\n",
       "      <td>tech mahindra ltd</td>\n",
       "      <td>Bengaluru</td>\n",
       "      <td>Proficiency in cleaning, visualizing, analysin...</td>\n",
       "    </tr>\n",
       "  </tbody>\n",
       "</table>\n",
       "</div>"
      ],
      "text/plain": [
       "                                               title  \\\n",
       "0              Data Scientist/Data Analyst-immediate   \n",
       "1  HCL hiring Data scientist with exp in machine ...   \n",
       "2                  Data Scientist - Machine Learning   \n",
       "3                  Data Scientist - Machine Learning   \n",
       "4                  Data Scientist - Machine Learning   \n",
       "5  Software Developer - Data Scientist / NLP / Ma...   \n",
       "6  Data Scientist - Machine Learning - Remote Wor...   \n",
       "7                                     Data Scientist   \n",
       "8  Data Scientist (Healthcare/Pharma Domain prefe...   \n",
       "9  Tech Mahindra hiring For Data Scientist- Banga...   \n",
       "\n",
       "                                             company  \\\n",
       "0  CAIA-Center For Artificial Intelligence & Adva...   \n",
       "1                           HCL Technologies Limited   \n",
       "2                                        AugmatrixGo   \n",
       "3                  BLUE YONDER INDIA PRIVATE LIMITED   \n",
       "4                  BLUE YONDER INDIA PRIVATE LIMITED   \n",
       "5                     Cunesoft India Private Limited   \n",
       "6                                           Doji Ltd   \n",
       "7                      GENPACT India Private Limited   \n",
       "8                      GENPACT India Private Limited   \n",
       "9                                  tech mahindra ltd   \n",
       "\n",
       "                                  location  \\\n",
       "0      Chennai, Pune, Bengaluru, Hyderabad   \n",
       "1                                Bengaluru   \n",
       "2                                Bengaluru   \n",
       "3                                Bengaluru   \n",
       "4                                Bengaluru   \n",
       "5                    Bengaluru / Bangalore   \n",
       "6  Delhi NCR, Bengaluru, Anywhere in India   \n",
       "7                                Bengaluru   \n",
       "8                                Bengaluru   \n",
       "9                                Bengaluru   \n",
       "\n",
       "                                         description  \n",
       "0  In case you are trying to shift your career to...  \n",
       "1  Experience of end to end implementation of pre...  \n",
       "2  BTech / MTech degree in from reputed institute...  \n",
       "3  Roles and ResponsibilitiesUnder guidance, or i...  \n",
       "4  Experience working with some of the following ...  \n",
       "5  Roles and Responsibilities We are looking for ...  \n",
       "6  Direct experience in performing statistical an...  \n",
       "7  We are inviting applications for the role of D...  \n",
       "8  Should have expertise on predictive modeling t...  \n",
       "9  Proficiency in cleaning, visualizing, analysin...  "
      ]
     },
     "execution_count": 33,
     "metadata": {},
     "output_type": "execute_result"
    }
   ],
   "source": [
    "data_scientistjobs"
   ]
  },
  {
   "cell_type": "code",
   "execution_count": null,
   "metadata": {},
   "outputs": [],
   "source": []
  },
  {
   "cell_type": "markdown",
   "metadata": {},
   "source": [
    "# 3.data scientist according to salary at naukri.com"
   ]
  },
  {
   "cell_type": "code",
   "execution_count": 34,
   "metadata": {},
   "outputs": [],
   "source": [
    "url2='https://www.naukri.com/data-scientist-jobs-in-delhi-ncr?k=data%20scientist&l=delhi%2Fncr&ctcFilter=0to3'"
   ]
  },
  {
   "cell_type": "code",
   "execution_count": 35,
   "metadata": {},
   "outputs": [],
   "source": [
    "driver=webdriver.Chrome(r\"C:\\Users\\Dell Laptop\\chromedriver.exe\")"
   ]
  },
  {
   "cell_type": "code",
   "execution_count": 36,
   "metadata": {},
   "outputs": [],
   "source": [
    "driver.get(url2)"
   ]
  },
  {
   "cell_type": "code",
   "execution_count": 37,
   "metadata": {},
   "outputs": [],
   "source": [
    "job_title=[]\n",
    "job_location=[]\n",
    "company_name=[]\n",
    "experience_required=[]"
   ]
  },
  {
   "cell_type": "code",
   "execution_count": 38,
   "metadata": {},
   "outputs": [
    {
     "data": {
      "text/plain": [
       "[<selenium.webdriver.remote.webelement.WebElement (session=\"25fb881b6ebe956fbcbf422c47280f84\", element=\"09119173-5c61-4bf7-aad9-0549fd31ebca\")>,\n",
       " <selenium.webdriver.remote.webelement.WebElement (session=\"25fb881b6ebe956fbcbf422c47280f84\", element=\"fac61562-2e4e-46a5-85b7-9a37b983477f\")>,\n",
       " <selenium.webdriver.remote.webelement.WebElement (session=\"25fb881b6ebe956fbcbf422c47280f84\", element=\"245cdbc3-c800-487a-b594-123742e35832\")>,\n",
       " <selenium.webdriver.remote.webelement.WebElement (session=\"25fb881b6ebe956fbcbf422c47280f84\", element=\"62240b4c-f29c-4d84-b2db-0e1fea70d2fe\")>]"
      ]
     },
     "execution_count": 38,
     "metadata": {},
     "output_type": "execute_result"
    }
   ],
   "source": [
    "title_tag=driver.find_elements_by_xpath(\"//a[@class='title fw500 ellipsis']\")\n",
    "title_tag[0:4]"
   ]
  },
  {
   "cell_type": "code",
   "execution_count": 39,
   "metadata": {},
   "outputs": [
    {
     "data": {
      "text/plain": [
       "['Data Scientist opening at Saarthee Technology - Gurgaon',\n",
       " 'Data Scientist( Hadoop/Redshift/BigQuery)',\n",
       " 'Only Fresher / Data Scientist / Data Analyst / Business Analytics- MNC',\n",
       " 'Data Scientist - Strategy Management Firm - GGN/PUN',\n",
       " 'Lead Data Scientist']"
      ]
     },
     "execution_count": 39,
     "metadata": {},
     "output_type": "execute_result"
    }
   ],
   "source": [
    "for i in title_tag:\n",
    "    title=i.text\n",
    "    job_title.append(title)\n",
    "    \n",
    "    \n",
    "job_title[:5]    "
   ]
  },
  {
   "cell_type": "code",
   "execution_count": 40,
   "metadata": {},
   "outputs": [
    {
     "data": {
      "text/plain": [
       "[<selenium.webdriver.remote.webelement.WebElement (session=\"25fb881b6ebe956fbcbf422c47280f84\", element=\"b427656f-d61d-401a-81ed-326f1c62a9a1\")>,\n",
       " <selenium.webdriver.remote.webelement.WebElement (session=\"25fb881b6ebe956fbcbf422c47280f84\", element=\"78b1c527-fde2-4b85-8f1a-bc0539004ce3\")>,\n",
       " <selenium.webdriver.remote.webelement.WebElement (session=\"25fb881b6ebe956fbcbf422c47280f84\", element=\"a6642b68-f0d3-444e-9da2-1e5923f6459e\")>,\n",
       " <selenium.webdriver.remote.webelement.WebElement (session=\"25fb881b6ebe956fbcbf422c47280f84\", element=\"61beacb9-c878-4249-b690-bf5948b387f7\")>,\n",
       " <selenium.webdriver.remote.webelement.WebElement (session=\"25fb881b6ebe956fbcbf422c47280f84\", element=\"382ab740-4a69-440d-9f44-3e643f2f46c3\")>]"
      ]
     },
     "execution_count": 40,
     "metadata": {},
     "output_type": "execute_result"
    }
   ],
   "source": [
    "company_tag=driver.find_elements_by_xpath(r\"//a[@class='subTitle ellipsis fleft']\")\n",
    "company_tag[0:5]"
   ]
  },
  {
   "cell_type": "code",
   "execution_count": 41,
   "metadata": {},
   "outputs": [
    {
     "data": {
      "text/plain": [
       "['Saarthee Technology Pvt Ltd',\n",
       " 'Jubna',\n",
       " 'GABA Consultancy services',\n",
       " 'Spectral Consultants -Search and Recruitments Firm',\n",
       " 'NEC CORPORATION INDIA PRIVATE LTD']"
      ]
     },
     "execution_count": 41,
     "metadata": {},
     "output_type": "execute_result"
    }
   ],
   "source": [
    "for i in company_tag:\n",
    "    company=i.text\n",
    "    company_name.append(company)\n",
    "    \n",
    "    \n",
    "company_name[:5]    \n",
    "    "
   ]
  },
  {
   "cell_type": "code",
   "execution_count": 42,
   "metadata": {},
   "outputs": [
    {
     "data": {
      "text/plain": [
       "[<selenium.webdriver.remote.webelement.WebElement (session=\"25fb881b6ebe956fbcbf422c47280f84\", element=\"383007d4-b5cb-4e6a-be71-1ee5e17b5578\")>,\n",
       " <selenium.webdriver.remote.webelement.WebElement (session=\"25fb881b6ebe956fbcbf422c47280f84\", element=\"df5cf58f-3a67-4376-b7dd-9e0e587a22eb\")>,\n",
       " <selenium.webdriver.remote.webelement.WebElement (session=\"25fb881b6ebe956fbcbf422c47280f84\", element=\"d7d45840-033a-41fe-abcb-53eb56146850\")>,\n",
       " <selenium.webdriver.remote.webelement.WebElement (session=\"25fb881b6ebe956fbcbf422c47280f84\", element=\"67f11f06-4d48-45fb-b7ed-f6676fea1df2\")>,\n",
       " <selenium.webdriver.remote.webelement.WebElement (session=\"25fb881b6ebe956fbcbf422c47280f84\", element=\"2a531dca-cd57-45d9-b852-d2349ba9f653\")>]"
      ]
     },
     "execution_count": 42,
     "metadata": {},
     "output_type": "execute_result"
    }
   ],
   "source": [
    "location_tag=driver.find_elements_by_xpath(\"//li[@class='fleft grey-text br2 placeHolderLi location']\")\n",
    "location_tag[:5]"
   ]
  },
  {
   "cell_type": "code",
   "execution_count": 43,
   "metadata": {},
   "outputs": [
    {
     "data": {
      "text/plain": [
       "['Gurgaon',\n",
       " 'Noida',\n",
       " 'Delhi NCR, Noida, Gurgaon',\n",
       " 'Pune, Delhi NCR',\n",
       " 'Delhi NCR, Noida(Sector-142 Noida)',\n",
       " 'Delhi NCR(Sector-142 Noida), Noida',\n",
       " 'Noida',\n",
       " 'Noida',\n",
       " 'Noida',\n",
       " 'Delhi, Gurgaon',\n",
       " 'Faridabad, Delhi NCR, Gurgaon',\n",
       " 'Delhi NCR',\n",
       " 'Delhi',\n",
       " 'Gurgaon',\n",
       " 'Gurgaon, haryana',\n",
       " 'Pune, Mumbai, Bengaluru, Noida, Hyderabad',\n",
       " 'Noida(Sector-62 Noida)',\n",
       " 'Greater Noida, Noida',\n",
       " 'Noida',\n",
       " 'Chennai, Pune, Delhi NCR, Mumbai, Bengaluru, Hyderabad, Gurgaon']"
      ]
     },
     "execution_count": 43,
     "metadata": {},
     "output_type": "execute_result"
    }
   ],
   "source": [
    "for i in location_tag:\n",
    "    location=i.text\n",
    "    job_location.append(location)\n",
    "    \n",
    "    \n",
    "job_location    "
   ]
  },
  {
   "cell_type": "code",
   "execution_count": 44,
   "metadata": {},
   "outputs": [
    {
     "data": {
      "text/plain": [
       "[<selenium.webdriver.remote.webelement.WebElement (session=\"25fb881b6ebe956fbcbf422c47280f84\", element=\"d556d5ca-4b43-4de2-a185-24699e53697d\")>,\n",
       " <selenium.webdriver.remote.webelement.WebElement (session=\"25fb881b6ebe956fbcbf422c47280f84\", element=\"eb640af5-dd90-428d-89ab-770222873f0f\")>,\n",
       " <selenium.webdriver.remote.webelement.WebElement (session=\"25fb881b6ebe956fbcbf422c47280f84\", element=\"84714019-c99d-40f0-b56f-117045399047\")>,\n",
       " <selenium.webdriver.remote.webelement.WebElement (session=\"25fb881b6ebe956fbcbf422c47280f84\", element=\"077d3749-d160-4ed4-bab5-e48fcc012ca0\")>,\n",
       " <selenium.webdriver.remote.webelement.WebElement (session=\"25fb881b6ebe956fbcbf422c47280f84\", element=\"e231af6d-e2f6-4037-afdb-9dc9df215ffe\")>]"
      ]
     },
     "execution_count": 44,
     "metadata": {},
     "output_type": "execute_result"
    }
   ],
   "source": [
    "exp_tag=driver.find_elements_by_xpath(\"//li[@class='fleft grey-text br2 placeHolderLi experience']\")\n",
    "exp_tag[:5]"
   ]
  },
  {
   "cell_type": "code",
   "execution_count": 45,
   "metadata": {},
   "outputs": [
    {
     "data": {
      "text/plain": [
       "['1-6 Yrs', '4-6 Yrs', '0-0 Yrs', '3-7 Yrs', '9-14 Yrs']"
      ]
     },
     "execution_count": 45,
     "metadata": {},
     "output_type": "execute_result"
    }
   ],
   "source": [
    "for i in exp_tag:\n",
    "    exp=i.text\n",
    "    experience_required.append(exp)\n",
    "    \n",
    "experience_required[0:5]    "
   ]
  },
  {
   "cell_type": "code",
   "execution_count": 46,
   "metadata": {},
   "outputs": [],
   "source": [
    "import pandas as pd\n",
    "jobs=pd.DataFrame({})\n",
    "jobs['title']=job_title[0:10]\n",
    "jobs['company']=company_name[0:10]\n",
    "jobs['location']=job_location[0:10]\n",
    "jobs['exprience']=experience_required[0:10]"
   ]
  },
  {
   "cell_type": "code",
   "execution_count": 47,
   "metadata": {},
   "outputs": [
    {
     "data": {
      "text/html": [
       "<div>\n",
       "<style scoped>\n",
       "    .dataframe tbody tr th:only-of-type {\n",
       "        vertical-align: middle;\n",
       "    }\n",
       "\n",
       "    .dataframe tbody tr th {\n",
       "        vertical-align: top;\n",
       "    }\n",
       "\n",
       "    .dataframe thead th {\n",
       "        text-align: right;\n",
       "    }\n",
       "</style>\n",
       "<table border=\"1\" class=\"dataframe\">\n",
       "  <thead>\n",
       "    <tr style=\"text-align: right;\">\n",
       "      <th></th>\n",
       "      <th>title</th>\n",
       "      <th>company</th>\n",
       "      <th>location</th>\n",
       "      <th>exprience</th>\n",
       "    </tr>\n",
       "  </thead>\n",
       "  <tbody>\n",
       "    <tr>\n",
       "      <th>0</th>\n",
       "      <td>Data Scientist opening at Saarthee Technology ...</td>\n",
       "      <td>Saarthee Technology Pvt Ltd</td>\n",
       "      <td>Gurgaon</td>\n",
       "      <td>1-6 Yrs</td>\n",
       "    </tr>\n",
       "    <tr>\n",
       "      <th>1</th>\n",
       "      <td>Data Scientist( Hadoop/Redshift/BigQuery)</td>\n",
       "      <td>Jubna</td>\n",
       "      <td>Noida</td>\n",
       "      <td>4-6 Yrs</td>\n",
       "    </tr>\n",
       "    <tr>\n",
       "      <th>2</th>\n",
       "      <td>Only Fresher / Data Scientist / Data Analyst /...</td>\n",
       "      <td>GABA Consultancy services</td>\n",
       "      <td>Delhi NCR, Noida, Gurgaon</td>\n",
       "      <td>0-0 Yrs</td>\n",
       "    </tr>\n",
       "    <tr>\n",
       "      <th>3</th>\n",
       "      <td>Data Scientist - Strategy Management Firm - GG...</td>\n",
       "      <td>Spectral Consultants -Search and Recruitments ...</td>\n",
       "      <td>Pune, Delhi NCR</td>\n",
       "      <td>3-7 Yrs</td>\n",
       "    </tr>\n",
       "    <tr>\n",
       "      <th>4</th>\n",
       "      <td>Lead Data Scientist</td>\n",
       "      <td>NEC CORPORATION INDIA PRIVATE LTD</td>\n",
       "      <td>Delhi NCR, Noida(Sector-142 Noida)</td>\n",
       "      <td>9-14 Yrs</td>\n",
       "    </tr>\n",
       "    <tr>\n",
       "      <th>5</th>\n",
       "      <td>Excellent opportunity For Lead Data Scientist ...</td>\n",
       "      <td>NEC CORPORATION INDIA PRIVATE LTD</td>\n",
       "      <td>Delhi NCR(Sector-142 Noida), Noida</td>\n",
       "      <td>9-14 Yrs</td>\n",
       "    </tr>\n",
       "    <tr>\n",
       "      <th>6</th>\n",
       "      <td>Data Scientist</td>\n",
       "      <td>Gauge Data Solutions Pvt Ltd</td>\n",
       "      <td>Noida</td>\n",
       "      <td>2-7 Yrs</td>\n",
       "    </tr>\n",
       "    <tr>\n",
       "      <th>7</th>\n",
       "      <td>Data Scientist Intern</td>\n",
       "      <td>Salasar New Age Technologies</td>\n",
       "      <td>Noida</td>\n",
       "      <td>0-2 Yrs</td>\n",
       "    </tr>\n",
       "    <tr>\n",
       "      <th>8</th>\n",
       "      <td>Developers, Data Scientists, Web Designers, An...</td>\n",
       "      <td>Cogmac Technologies</td>\n",
       "      <td>Noida</td>\n",
       "      <td>1-5 Yrs</td>\n",
       "    </tr>\n",
       "    <tr>\n",
       "      <th>9</th>\n",
       "      <td>Data Analyst</td>\n",
       "      <td>Right Step Consulting</td>\n",
       "      <td>Delhi, Gurgaon</td>\n",
       "      <td>0-5 Yrs</td>\n",
       "    </tr>\n",
       "  </tbody>\n",
       "</table>\n",
       "</div>"
      ],
      "text/plain": [
       "                                               title  \\\n",
       "0  Data Scientist opening at Saarthee Technology ...   \n",
       "1          Data Scientist( Hadoop/Redshift/BigQuery)   \n",
       "2  Only Fresher / Data Scientist / Data Analyst /...   \n",
       "3  Data Scientist - Strategy Management Firm - GG...   \n",
       "4                                Lead Data Scientist   \n",
       "5  Excellent opportunity For Lead Data Scientist ...   \n",
       "6                                     Data Scientist   \n",
       "7                              Data Scientist Intern   \n",
       "8  Developers, Data Scientists, Web Designers, An...   \n",
       "9                                       Data Analyst   \n",
       "\n",
       "                                             company  \\\n",
       "0                        Saarthee Technology Pvt Ltd   \n",
       "1                                              Jubna   \n",
       "2                          GABA Consultancy services   \n",
       "3  Spectral Consultants -Search and Recruitments ...   \n",
       "4                  NEC CORPORATION INDIA PRIVATE LTD   \n",
       "5                  NEC CORPORATION INDIA PRIVATE LTD   \n",
       "6                       Gauge Data Solutions Pvt Ltd   \n",
       "7                       Salasar New Age Technologies   \n",
       "8                                Cogmac Technologies   \n",
       "9                              Right Step Consulting   \n",
       "\n",
       "                             location exprience  \n",
       "0                             Gurgaon   1-6 Yrs  \n",
       "1                               Noida   4-6 Yrs  \n",
       "2           Delhi NCR, Noida, Gurgaon   0-0 Yrs  \n",
       "3                     Pune, Delhi NCR   3-7 Yrs  \n",
       "4  Delhi NCR, Noida(Sector-142 Noida)  9-14 Yrs  \n",
       "5  Delhi NCR(Sector-142 Noida), Noida  9-14 Yrs  \n",
       "6                               Noida   2-7 Yrs  \n",
       "7                               Noida   0-2 Yrs  \n",
       "8                               Noida   1-5 Yrs  \n",
       "9                      Delhi, Gurgaon   0-5 Yrs  "
      ]
     },
     "execution_count": 47,
     "metadata": {},
     "output_type": "execute_result"
    }
   ],
   "source": [
    "jobs"
   ]
  },
  {
   "cell_type": "code",
   "execution_count": null,
   "metadata": {},
   "outputs": [],
   "source": []
  },
  {
   "cell_type": "markdown",
   "metadata": {},
   "source": [
    "# 4.data scientist at glassdoor"
   ]
  },
  {
   "cell_type": "code",
   "execution_count": 48,
   "metadata": {},
   "outputs": [],
   "source": [
    "url3='https://www.glassdoor.co.in/Job/noida-data-scientist-jobs-SRCH_IL.0,5_IC4477468_KO6,20.htm'"
   ]
  },
  {
   "cell_type": "code",
   "execution_count": 49,
   "metadata": {},
   "outputs": [],
   "source": [
    "driver=webdriver.Chrome(r\"C:\\Users\\Dell Laptop\\chromedriver.exe\")"
   ]
  },
  {
   "cell_type": "code",
   "execution_count": 50,
   "metadata": {},
   "outputs": [],
   "source": [
    "driver.get(url3)"
   ]
  },
  {
   "cell_type": "code",
   "execution_count": 51,
   "metadata": {},
   "outputs": [],
   "source": [
    "job_title=[]\n",
    "company_name=[]\n",
    "days=[]"
   ]
  },
  {
   "cell_type": "code",
   "execution_count": 52,
   "metadata": {},
   "outputs": [
    {
     "data": {
      "text/plain": [
       "[<selenium.webdriver.remote.webelement.WebElement (session=\"ec0fde4fd26239f68ae1bc368a80ccec\", element=\"93c6677f-f4f9-4348-a95b-f3d7871b39ff\")>,\n",
       " <selenium.webdriver.remote.webelement.WebElement (session=\"ec0fde4fd26239f68ae1bc368a80ccec\", element=\"d89302bf-83d8-4f9e-98cc-9166230cd5cb\")>,\n",
       " <selenium.webdriver.remote.webelement.WebElement (session=\"ec0fde4fd26239f68ae1bc368a80ccec\", element=\"b826f31f-0b88-4d86-84c2-d8714ecf172e\")>,\n",
       " <selenium.webdriver.remote.webelement.WebElement (session=\"ec0fde4fd26239f68ae1bc368a80ccec\", element=\"cb212ee0-a506-4355-8ca3-4079ac183ce2\")>]"
      ]
     },
     "execution_count": 52,
     "metadata": {},
     "output_type": "execute_result"
    }
   ],
   "source": [
    "title_tag=driver.find_elements_by_xpath(\"//a[@class='jobInfoItem jobTitle css-13w0lq6 eigr9kq1 jobLink']\")\n",
    "title_tag[0:4]"
   ]
  },
  {
   "cell_type": "code",
   "execution_count": 53,
   "metadata": {},
   "outputs": [
    {
     "data": {
      "text/plain": [
       "['Python Data Engineer, Analyst',\n",
       " 'Assistant Manager - Data Scientist',\n",
       " 'Data Scientist',\n",
       " 'Data Scientist',\n",
       " 'Data Scientist']"
      ]
     },
     "execution_count": 53,
     "metadata": {},
     "output_type": "execute_result"
    }
   ],
   "source": [
    "for i in title_tag:\n",
    "    title=i.text\n",
    "    job_title.append(title)\n",
    "    \n",
    "    \n",
    "job_title[:5]    "
   ]
  },
  {
   "cell_type": "code",
   "execution_count": 54,
   "metadata": {},
   "outputs": [
    {
     "data": {
      "text/plain": [
       "[<selenium.webdriver.remote.webelement.WebElement (session=\"ec0fde4fd26239f68ae1bc368a80ccec\", element=\"83f323e8-56a5-4896-a665-76292e321f46\")>,\n",
       " <selenium.webdriver.remote.webelement.WebElement (session=\"ec0fde4fd26239f68ae1bc368a80ccec\", element=\"3488807a-3dfd-4af7-b0d4-5d0ada005602\")>,\n",
       " <selenium.webdriver.remote.webelement.WebElement (session=\"ec0fde4fd26239f68ae1bc368a80ccec\", element=\"d473b087-c9a6-4aab-8801-b151c1b73d9f\")>,\n",
       " <selenium.webdriver.remote.webelement.WebElement (session=\"ec0fde4fd26239f68ae1bc368a80ccec\", element=\"fd88a3eb-8d92-4ea6-b466-ba481e532a4e\")>,\n",
       " <selenium.webdriver.remote.webelement.WebElement (session=\"ec0fde4fd26239f68ae1bc368a80ccec\", element=\"2bf7e0f8-834c-452c-86c3-fa4562047bb8\")>]"
      ]
     },
     "execution_count": 54,
     "metadata": {},
     "output_type": "execute_result"
    }
   ],
   "source": [
    "company_tag=driver.find_elements_by_xpath(r\"//a[@class=' css-10l5u4p e1n63ojh0 jobLink']\")\n",
    "company_tag[0:5]"
   ]
  },
  {
   "cell_type": "code",
   "execution_count": 55,
   "metadata": {},
   "outputs": [
    {
     "data": {
      "text/plain": [
       "['BlackRock',\n",
       " 'Genpact',\n",
       " 'Builder.ai - What would you Build?',\n",
       " 'Brickred',\n",
       " 'abc consultants']"
      ]
     },
     "execution_count": 55,
     "metadata": {},
     "output_type": "execute_result"
    }
   ],
   "source": [
    "for i in company_tag:\n",
    "    company=i.text\n",
    "    company_name.append(company)\n",
    "    \n",
    "    \n",
    "company_name[:5]    \n",
    "    "
   ]
  },
  {
   "cell_type": "code",
   "execution_count": 56,
   "metadata": {},
   "outputs": [
    {
     "data": {
      "text/plain": [
       "[<selenium.webdriver.remote.webelement.WebElement (session=\"ec0fde4fd26239f68ae1bc368a80ccec\", element=\"85b4c5d6-8c61-449d-a09a-bf1af63bc28f\")>,\n",
       " <selenium.webdriver.remote.webelement.WebElement (session=\"ec0fde4fd26239f68ae1bc368a80ccec\", element=\"d0b5fe4a-44ec-44cf-9d78-e4aa4a004206\")>,\n",
       " <selenium.webdriver.remote.webelement.WebElement (session=\"ec0fde4fd26239f68ae1bc368a80ccec\", element=\"3d812c56-cad5-4aa9-b527-a17b69d3062d\")>,\n",
       " <selenium.webdriver.remote.webelement.WebElement (session=\"ec0fde4fd26239f68ae1bc368a80ccec\", element=\"fc4f3342-edb7-4ae0-941c-6f13890fba3e\")>,\n",
       " <selenium.webdriver.remote.webelement.WebElement (session=\"ec0fde4fd26239f68ae1bc368a80ccec\", element=\"eff75d93-b3e0-4120-9821-71b90698075b\")>]"
      ]
     },
     "execution_count": 56,
     "metadata": {},
     "output_type": "execute_result"
    }
   ],
   "source": [
    "days_tag=driver.find_elements_by_xpath(r\"//div[@class='d-flex align-items-end pl-std css-mi55ob']\")\n",
    "days_tag[0:5]"
   ]
  },
  {
   "cell_type": "code",
   "execution_count": 57,
   "metadata": {},
   "outputs": [
    {
     "data": {
      "text/plain": [
       "['1d', '11d', '24h', '4d', '13d']"
      ]
     },
     "execution_count": 57,
     "metadata": {},
     "output_type": "execute_result"
    }
   ],
   "source": [
    "for i in days_tag:\n",
    "    day=i.text\n",
    "    days.append(day)\n",
    "    \n",
    "    \n",
    "days[:5]    \n",
    "    "
   ]
  },
  {
   "cell_type": "code",
   "execution_count": 58,
   "metadata": {},
   "outputs": [
    {
     "name": "stdout",
     "output_type": "stream",
     "text": [
      "30 30 30\n"
     ]
    }
   ],
   "source": [
    "print(len(job_title),len(company_name),len(days))"
   ]
  },
  {
   "cell_type": "code",
   "execution_count": 59,
   "metadata": {},
   "outputs": [],
   "source": [
    "import pandas as pd\n",
    "glassdoor=pd.DataFrame({})\n",
    "glassdoor['title']=job_title[0:10]\n",
    "glassdoor['company']=company_name[0:10]\n",
    "glassdoor['day posted']=days[0:10]"
   ]
  },
  {
   "cell_type": "code",
   "execution_count": 60,
   "metadata": {},
   "outputs": [
    {
     "data": {
      "text/html": [
       "<div>\n",
       "<style scoped>\n",
       "    .dataframe tbody tr th:only-of-type {\n",
       "        vertical-align: middle;\n",
       "    }\n",
       "\n",
       "    .dataframe tbody tr th {\n",
       "        vertical-align: top;\n",
       "    }\n",
       "\n",
       "    .dataframe thead th {\n",
       "        text-align: right;\n",
       "    }\n",
       "</style>\n",
       "<table border=\"1\" class=\"dataframe\">\n",
       "  <thead>\n",
       "    <tr style=\"text-align: right;\">\n",
       "      <th></th>\n",
       "      <th>title</th>\n",
       "      <th>company</th>\n",
       "      <th>day posted</th>\n",
       "    </tr>\n",
       "  </thead>\n",
       "  <tbody>\n",
       "    <tr>\n",
       "      <th>0</th>\n",
       "      <td>Python Data Engineer, Analyst</td>\n",
       "      <td>BlackRock</td>\n",
       "      <td>1d</td>\n",
       "    </tr>\n",
       "    <tr>\n",
       "      <th>1</th>\n",
       "      <td>Assistant Manager - Data Scientist</td>\n",
       "      <td>Genpact</td>\n",
       "      <td>11d</td>\n",
       "    </tr>\n",
       "    <tr>\n",
       "      <th>2</th>\n",
       "      <td>Data Scientist</td>\n",
       "      <td>Builder.ai - What would you Build?</td>\n",
       "      <td>24h</td>\n",
       "    </tr>\n",
       "    <tr>\n",
       "      <th>3</th>\n",
       "      <td>Data Scientist</td>\n",
       "      <td>Brickred</td>\n",
       "      <td>4d</td>\n",
       "    </tr>\n",
       "    <tr>\n",
       "      <th>4</th>\n",
       "      <td>Data Scientist</td>\n",
       "      <td>abc consultants</td>\n",
       "      <td>13d</td>\n",
       "    </tr>\n",
       "    <tr>\n",
       "      <th>5</th>\n",
       "      <td>Data Scientist</td>\n",
       "      <td>Priority Vendor</td>\n",
       "      <td>12d</td>\n",
       "    </tr>\n",
       "    <tr>\n",
       "      <th>6</th>\n",
       "      <td>Data Scientist</td>\n",
       "      <td>Terra Economics &amp; Analytics Lab (TEAL)</td>\n",
       "      <td>14d</td>\n",
       "    </tr>\n",
       "    <tr>\n",
       "      <th>7</th>\n",
       "      <td>Data Scientist</td>\n",
       "      <td>Gauge Data Solutions</td>\n",
       "      <td>12d</td>\n",
       "    </tr>\n",
       "    <tr>\n",
       "      <th>8</th>\n",
       "      <td>Data Scientist</td>\n",
       "      <td>Lumiq</td>\n",
       "      <td>3d</td>\n",
       "    </tr>\n",
       "    <tr>\n",
       "      <th>9</th>\n",
       "      <td>Data Scientist</td>\n",
       "      <td>Biz2Credit Inc</td>\n",
       "      <td>21d</td>\n",
       "    </tr>\n",
       "  </tbody>\n",
       "</table>\n",
       "</div>"
      ],
      "text/plain": [
       "                                title                                 company  \\\n",
       "0       Python Data Engineer, Analyst                               BlackRock   \n",
       "1  Assistant Manager - Data Scientist                                 Genpact   \n",
       "2                      Data Scientist      Builder.ai - What would you Build?   \n",
       "3                      Data Scientist                                Brickred   \n",
       "4                      Data Scientist                         abc consultants   \n",
       "5                      Data Scientist                         Priority Vendor   \n",
       "6                      Data Scientist  Terra Economics & Analytics Lab (TEAL)   \n",
       "7                      Data Scientist                    Gauge Data Solutions   \n",
       "8                      Data Scientist                                   Lumiq   \n",
       "9                      Data Scientist                          Biz2Credit Inc   \n",
       "\n",
       "  day posted  \n",
       "0         1d  \n",
       "1        11d  \n",
       "2        24h  \n",
       "3         4d  \n",
       "4        13d  \n",
       "5        12d  \n",
       "6        14d  \n",
       "7        12d  \n",
       "8         3d  \n",
       "9        21d  "
      ]
     },
     "execution_count": 60,
     "metadata": {},
     "output_type": "execute_result"
    }
   ],
   "source": [
    "glassdoor"
   ]
  },
  {
   "cell_type": "code",
   "execution_count": null,
   "metadata": {},
   "outputs": [],
   "source": []
  },
  {
   "cell_type": "markdown",
   "metadata": {},
   "source": [
    "# 5.data scientist at glassdoor by salary"
   ]
  },
  {
   "cell_type": "code",
   "execution_count": 61,
   "metadata": {},
   "outputs": [],
   "source": [
    "url4='https://www.glassdoor.co.in/Salaries/new-delhi-data-scientist-salary-SRCH_IL.0,9_IM1083_KO10,24.htm?clickSource=searchBtn'"
   ]
  },
  {
   "cell_type": "code",
   "execution_count": 62,
   "metadata": {},
   "outputs": [],
   "source": [
    "driver=webdriver.Chrome(r\"C:\\Users\\Dell Laptop\\chromedriver.exe\")"
   ]
  },
  {
   "cell_type": "code",
   "execution_count": 63,
   "metadata": {},
   "outputs": [],
   "source": [
    "driver.get(url4)"
   ]
  },
  {
   "cell_type": "code",
   "execution_count": 64,
   "metadata": {},
   "outputs": [],
   "source": [
    "company_name=[]\n",
    "no_salary=[]\n",
    "avg_salary=[]\n",
    "min_salary=[]\n",
    "max_salary=[]"
   ]
  },
  {
   "cell_type": "code",
   "execution_count": 65,
   "metadata": {},
   "outputs": [
    {
     "data": {
      "text/plain": [
       "[<selenium.webdriver.remote.webelement.WebElement (session=\"9aee7b4df1a3d2ef5ebf80df87667c4e\", element=\"704da7cc-93e6-4137-a167-946fa5bba8bd\")>,\n",
       " <selenium.webdriver.remote.webelement.WebElement (session=\"9aee7b4df1a3d2ef5ebf80df87667c4e\", element=\"f4830aad-9b31-4031-8962-f1b5dd046e8d\")>,\n",
       " <selenium.webdriver.remote.webelement.WebElement (session=\"9aee7b4df1a3d2ef5ebf80df87667c4e\", element=\"a950f7a9-c7e1-4ced-8289-bf14e33b0c8d\")>,\n",
       " <selenium.webdriver.remote.webelement.WebElement (session=\"9aee7b4df1a3d2ef5ebf80df87667c4e\", element=\"cbe3286b-687b-47fb-a930-c6ba561e9bb0\")>,\n",
       " <selenium.webdriver.remote.webelement.WebElement (session=\"9aee7b4df1a3d2ef5ebf80df87667c4e\", element=\"2c645470-1780-4bd9-9c64-25d6362199d8\")>,\n",
       " <selenium.webdriver.remote.webelement.WebElement (session=\"9aee7b4df1a3d2ef5ebf80df87667c4e\", element=\"4ee253c0-0980-4a35-80db-087dced016bc\")>,\n",
       " <selenium.webdriver.remote.webelement.WebElement (session=\"9aee7b4df1a3d2ef5ebf80df87667c4e\", element=\"e33f1dcd-5e71-4dea-9561-f7ae9d4d2f85\")>,\n",
       " <selenium.webdriver.remote.webelement.WebElement (session=\"9aee7b4df1a3d2ef5ebf80df87667c4e\", element=\"2f346987-2bd9-47d5-b146-7d4d65a44b8c\")>,\n",
       " <selenium.webdriver.remote.webelement.WebElement (session=\"9aee7b4df1a3d2ef5ebf80df87667c4e\", element=\"ef118ac0-3422-4d82-8514-9a66717e2bcc\")>,\n",
       " <selenium.webdriver.remote.webelement.WebElement (session=\"9aee7b4df1a3d2ef5ebf80df87667c4e\", element=\"c5033ae1-9054-4f14-9d42-14ac9fc475ee\")>,\n",
       " <selenium.webdriver.remote.webelement.WebElement (session=\"9aee7b4df1a3d2ef5ebf80df87667c4e\", element=\"ec8110a9-796d-4f7e-9dcd-edd6393ebfc7\")>,\n",
       " <selenium.webdriver.remote.webelement.WebElement (session=\"9aee7b4df1a3d2ef5ebf80df87667c4e\", element=\"bff6f900-7721-4d54-bf70-d810411e15c4\")>,\n",
       " <selenium.webdriver.remote.webelement.WebElement (session=\"9aee7b4df1a3d2ef5ebf80df87667c4e\", element=\"07673d2a-d03f-4454-82ac-ebd6c3b3c700\")>,\n",
       " <selenium.webdriver.remote.webelement.WebElement (session=\"9aee7b4df1a3d2ef5ebf80df87667c4e\", element=\"7f19e4de-7e52-4b93-acb9-d79215d44655\")>,\n",
       " <selenium.webdriver.remote.webelement.WebElement (session=\"9aee7b4df1a3d2ef5ebf80df87667c4e\", element=\"24c2c59c-b387-41bd-835c-629dc284121f\")>,\n",
       " <selenium.webdriver.remote.webelement.WebElement (session=\"9aee7b4df1a3d2ef5ebf80df87667c4e\", element=\"c75c893e-8770-4bea-9d4d-41b4bfa1a72f\")>,\n",
       " <selenium.webdriver.remote.webelement.WebElement (session=\"9aee7b4df1a3d2ef5ebf80df87667c4e\", element=\"ab6c8d27-2a1f-43e2-a610-67e746945538\")>,\n",
       " <selenium.webdriver.remote.webelement.WebElement (session=\"9aee7b4df1a3d2ef5ebf80df87667c4e\", element=\"48e5e10d-5095-4a0a-9528-df585d5bff0f\")>,\n",
       " <selenium.webdriver.remote.webelement.WebElement (session=\"9aee7b4df1a3d2ef5ebf80df87667c4e\", element=\"0cf60ae2-6135-4566-9244-6bcc2f13c2ee\")>,\n",
       " <selenium.webdriver.remote.webelement.WebElement (session=\"9aee7b4df1a3d2ef5ebf80df87667c4e\", element=\"af8d35d6-cb55-42f5-ade7-af6dcf15fae4\")>]"
      ]
     },
     "execution_count": 65,
     "metadata": {},
     "output_type": "execute_result"
    }
   ],
   "source": [
    "company_tag=driver.find_elements_by_xpath(r\"//div[@class='row no-gutters mx-0 py align-items-center css-1u4lhyp']/div/div/div[2]/p[2]\")\n",
    "company_tag"
   ]
  },
  {
   "cell_type": "code",
   "execution_count": 66,
   "metadata": {},
   "outputs": [
    {
     "data": {
      "text/plain": [
       "['Delhivery',\n",
       " 'Ericsson-Worldwide',\n",
       " 'Accenture',\n",
       " 'Tata Consultancy Services',\n",
       " 'IBM']"
      ]
     },
     "execution_count": 66,
     "metadata": {},
     "output_type": "execute_result"
    }
   ],
   "source": [
    "for i in company_tag:\n",
    "    company=i.text\n",
    "    company_name.append(company)\n",
    "    \n",
    "    \n",
    "company_name[0:5]"
   ]
  },
  {
   "cell_type": "code",
   "execution_count": 67,
   "metadata": {},
   "outputs": [
    {
     "data": {
      "text/plain": [
       "[<selenium.webdriver.remote.webelement.WebElement (session=\"9aee7b4df1a3d2ef5ebf80df87667c4e\", element=\"7e41cfed-fdd1-493e-a1d9-f28968293c8b\")>,\n",
       " <selenium.webdriver.remote.webelement.WebElement (session=\"9aee7b4df1a3d2ef5ebf80df87667c4e\", element=\"15e7a44d-63f5-4b61-8e92-02f2b1eec3d6\")>,\n",
       " <selenium.webdriver.remote.webelement.WebElement (session=\"9aee7b4df1a3d2ef5ebf80df87667c4e\", element=\"eb469092-04a4-419f-85a3-3a0c78ea391d\")>,\n",
       " <selenium.webdriver.remote.webelement.WebElement (session=\"9aee7b4df1a3d2ef5ebf80df87667c4e\", element=\"deedebda-af06-438c-99d3-9632df110960\")>,\n",
       " <selenium.webdriver.remote.webelement.WebElement (session=\"9aee7b4df1a3d2ef5ebf80df87667c4e\", element=\"616fbda6-b6c5-4a3d-8a5e-fe05280ead0f\")>,\n",
       " <selenium.webdriver.remote.webelement.WebElement (session=\"9aee7b4df1a3d2ef5ebf80df87667c4e\", element=\"773a12d3-6231-4b6e-abbe-23a00109c0fc\")>,\n",
       " <selenium.webdriver.remote.webelement.WebElement (session=\"9aee7b4df1a3d2ef5ebf80df87667c4e\", element=\"540655ad-664a-43ab-95d3-bf6aeb70eab6\")>,\n",
       " <selenium.webdriver.remote.webelement.WebElement (session=\"9aee7b4df1a3d2ef5ebf80df87667c4e\", element=\"ab10a111-e0fc-440a-b3a6-adfb0b3cc2da\")>,\n",
       " <selenium.webdriver.remote.webelement.WebElement (session=\"9aee7b4df1a3d2ef5ebf80df87667c4e\", element=\"0acd1c90-3994-4681-8853-526270b5a16b\")>,\n",
       " <selenium.webdriver.remote.webelement.WebElement (session=\"9aee7b4df1a3d2ef5ebf80df87667c4e\", element=\"af419ead-622c-483d-9878-5d0843f882bb\")>,\n",
       " <selenium.webdriver.remote.webelement.WebElement (session=\"9aee7b4df1a3d2ef5ebf80df87667c4e\", element=\"bce26a65-94e9-417a-87ec-7dea5a6521ad\")>,\n",
       " <selenium.webdriver.remote.webelement.WebElement (session=\"9aee7b4df1a3d2ef5ebf80df87667c4e\", element=\"2fca1043-86ad-4957-adfa-b7632f9d7c46\")>,\n",
       " <selenium.webdriver.remote.webelement.WebElement (session=\"9aee7b4df1a3d2ef5ebf80df87667c4e\", element=\"5bb2a25b-ec07-4f22-a1d1-bdf6cd60efa3\")>,\n",
       " <selenium.webdriver.remote.webelement.WebElement (session=\"9aee7b4df1a3d2ef5ebf80df87667c4e\", element=\"96fd69f6-7470-47ff-81d4-853a8b967499\")>,\n",
       " <selenium.webdriver.remote.webelement.WebElement (session=\"9aee7b4df1a3d2ef5ebf80df87667c4e\", element=\"86093269-2901-4863-b6d6-672bbd078dc3\")>,\n",
       " <selenium.webdriver.remote.webelement.WebElement (session=\"9aee7b4df1a3d2ef5ebf80df87667c4e\", element=\"63b7e992-c7b2-45cd-9656-42481f2da7a7\")>,\n",
       " <selenium.webdriver.remote.webelement.WebElement (session=\"9aee7b4df1a3d2ef5ebf80df87667c4e\", element=\"5dacfb09-e239-4edb-aa1b-b85e7e5d87e0\")>,\n",
       " <selenium.webdriver.remote.webelement.WebElement (session=\"9aee7b4df1a3d2ef5ebf80df87667c4e\", element=\"4050d778-dd75-4704-9cf0-b6f3c7b1747c\")>,\n",
       " <selenium.webdriver.remote.webelement.WebElement (session=\"9aee7b4df1a3d2ef5ebf80df87667c4e\", element=\"4dad0e6f-712f-4259-830e-a9306a0f1282\")>,\n",
       " <selenium.webdriver.remote.webelement.WebElement (session=\"9aee7b4df1a3d2ef5ebf80df87667c4e\", element=\"1f246292-d3e7-421f-8f7b-4ff18890535e\")>]"
      ]
     },
     "execution_count": 67,
     "metadata": {},
     "output_type": "execute_result"
    }
   ],
   "source": [
    "no_salary_tag=driver.find_elements_by_xpath(r\"//p[@class='css-1uyte9r css-1kuy7z7 m-0 ']\")\n",
    "no_salary_tag"
   ]
  },
  {
   "cell_type": "code",
   "execution_count": 68,
   "metadata": {},
   "outputs": [
    {
     "data": {
      "text/plain": [
       "['13 salaries',\n",
       " '11 salaries',\n",
       " '10 salaries',\n",
       " '9 salaries',\n",
       " '9 salaries',\n",
       " '8 salaries',\n",
       " '8 salaries',\n",
       " '7 salaries',\n",
       " '6 salaries',\n",
       " '5 salaries',\n",
       " '5 salaries',\n",
       " '4 salaries',\n",
       " '4 salaries',\n",
       " '4 salaries',\n",
       " '4 salaries',\n",
       " '4 salaries',\n",
       " '3 salaries',\n",
       " '3 salaries',\n",
       " '3 salaries',\n",
       " '3 salaries']"
      ]
     },
     "execution_count": 68,
     "metadata": {},
     "output_type": "execute_result"
    }
   ],
   "source": [
    "for i in no_salary_tag:\n",
    "    no_salary.append(i.text)\n",
    "    \n",
    "no_salary    "
   ]
  },
  {
   "cell_type": "code",
   "execution_count": 69,
   "metadata": {},
   "outputs": [
    {
     "data": {
      "text/plain": [
       "[<selenium.webdriver.remote.webelement.WebElement (session=\"9aee7b4df1a3d2ef5ebf80df87667c4e\", element=\"27987271-c84a-4da7-bb77-be863fc78eef\")>,\n",
       " <selenium.webdriver.remote.webelement.WebElement (session=\"9aee7b4df1a3d2ef5ebf80df87667c4e\", element=\"a91be62c-ae0d-4923-a6ad-bfd017cf80af\")>,\n",
       " <selenium.webdriver.remote.webelement.WebElement (session=\"9aee7b4df1a3d2ef5ebf80df87667c4e\", element=\"5d2411f8-e1c9-4725-a011-7dbea6b79fde\")>,\n",
       " <selenium.webdriver.remote.webelement.WebElement (session=\"9aee7b4df1a3d2ef5ebf80df87667c4e\", element=\"402f4d11-2c84-43f8-8666-51e4b229288a\")>,\n",
       " <selenium.webdriver.remote.webelement.WebElement (session=\"9aee7b4df1a3d2ef5ebf80df87667c4e\", element=\"e9d81810-c568-462a-898e-5fc45a1d8ea6\")>,\n",
       " <selenium.webdriver.remote.webelement.WebElement (session=\"9aee7b4df1a3d2ef5ebf80df87667c4e\", element=\"705a13a3-515a-4bbe-bdab-f131a0b3df5f\")>,\n",
       " <selenium.webdriver.remote.webelement.WebElement (session=\"9aee7b4df1a3d2ef5ebf80df87667c4e\", element=\"45eb946f-a3d1-4c58-8e47-39d6b705e886\")>,\n",
       " <selenium.webdriver.remote.webelement.WebElement (session=\"9aee7b4df1a3d2ef5ebf80df87667c4e\", element=\"c03488ac-b7f8-4392-909d-37c7e1ed5253\")>,\n",
       " <selenium.webdriver.remote.webelement.WebElement (session=\"9aee7b4df1a3d2ef5ebf80df87667c4e\", element=\"10f14b61-c3a8-4fec-aa9a-078287ce2718\")>,\n",
       " <selenium.webdriver.remote.webelement.WebElement (session=\"9aee7b4df1a3d2ef5ebf80df87667c4e\", element=\"2494027e-9e74-4675-a4d9-cac970b29d62\")>,\n",
       " <selenium.webdriver.remote.webelement.WebElement (session=\"9aee7b4df1a3d2ef5ebf80df87667c4e\", element=\"3a1f9cf4-a435-4367-af30-1d87fa05aff3\")>,\n",
       " <selenium.webdriver.remote.webelement.WebElement (session=\"9aee7b4df1a3d2ef5ebf80df87667c4e\", element=\"9bb8fab3-dfba-4b61-9483-cdd5b9adbdcf\")>,\n",
       " <selenium.webdriver.remote.webelement.WebElement (session=\"9aee7b4df1a3d2ef5ebf80df87667c4e\", element=\"41dcf568-9b54-451b-9b76-af84b29e4809\")>,\n",
       " <selenium.webdriver.remote.webelement.WebElement (session=\"9aee7b4df1a3d2ef5ebf80df87667c4e\", element=\"e00dceae-5d0a-4f9c-b29e-2cd35cd434bb\")>,\n",
       " <selenium.webdriver.remote.webelement.WebElement (session=\"9aee7b4df1a3d2ef5ebf80df87667c4e\", element=\"e537c26a-36ed-4e77-8d33-21d5f3d04aea\")>,\n",
       " <selenium.webdriver.remote.webelement.WebElement (session=\"9aee7b4df1a3d2ef5ebf80df87667c4e\", element=\"8fe0b056-a7c6-4677-ac20-e67d2a19a804\")>,\n",
       " <selenium.webdriver.remote.webelement.WebElement (session=\"9aee7b4df1a3d2ef5ebf80df87667c4e\", element=\"01b0ad08-19d2-4cb2-b0a7-ef6545a1a41d\")>,\n",
       " <selenium.webdriver.remote.webelement.WebElement (session=\"9aee7b4df1a3d2ef5ebf80df87667c4e\", element=\"32e93654-f6f8-4e1a-a22d-c661810cc456\")>,\n",
       " <selenium.webdriver.remote.webelement.WebElement (session=\"9aee7b4df1a3d2ef5ebf80df87667c4e\", element=\"237699c7-711d-45f7-a23c-34a030ff1782\")>,\n",
       " <selenium.webdriver.remote.webelement.WebElement (session=\"9aee7b4df1a3d2ef5ebf80df87667c4e\", element=\"c163dfef-8414-4a4f-9bfd-b41604c3b944\")>]"
      ]
     },
     "execution_count": 69,
     "metadata": {},
     "output_type": "execute_result"
    }
   ],
   "source": [
    "salary=driver.find_elements_by_xpath(r\"//div[@class=('col-2 d-none d-md-flex flex-row justify-content-end')]\")\n",
    "salary"
   ]
  },
  {
   "cell_type": "code",
   "execution_count": 70,
   "metadata": {},
   "outputs": [
    {
     "data": {
      "text/plain": [
       "['₹ 12,81,419\\n/yr',\n",
       " '₹ 7,52,052\\n/yr',\n",
       " '₹ 9,98,925\\n/yr',\n",
       " '₹ 6,02,000\\n/yr',\n",
       " '₹ 7,71,657\\n/yr',\n",
       " '₹ 12,22,902\\n/yr',\n",
       " '₹ 7,91,015\\n/yr',\n",
       " '₹ 12,15,138\\n/yr',\n",
       " '₹ 10,21,889\\n/yr',\n",
       " '₹ 10,00,000\\n/yr',\n",
       " '₹ 14,33,387\\n/yr',\n",
       " '₹ 11,42,351\\n/yr',\n",
       " '₹ 12,57,579\\n/yr',\n",
       " '₹ 15,53,977\\n/yr',\n",
       " '₹ 13,09,262\\n/yr',\n",
       " '₹ 5,96,779\\n/yr',\n",
       " '₹ 10,67,848\\n/yr',\n",
       " '₹ 17,00,000\\n/yr',\n",
       " '₹ 9,75,474\\n/yr',\n",
       " '₹ 35,11,792\\n/yr']"
      ]
     },
     "execution_count": 70,
     "metadata": {},
     "output_type": "execute_result"
    }
   ],
   "source": [
    "for i in salary:\n",
    "    avg_salary.append(i.text)\n",
    "    \n",
    "    \n",
    "avg_salary "
   ]
  },
  {
   "cell_type": "code",
   "execution_count": 71,
   "metadata": {},
   "outputs": [
    {
     "data": {
      "text/plain": [
       "[<selenium.webdriver.remote.webelement.WebElement (session=\"9aee7b4df1a3d2ef5ebf80df87667c4e\", element=\"2c00d488-8204-4b98-a6c8-f545d4dd86fa\")>,\n",
       " <selenium.webdriver.remote.webelement.WebElement (session=\"9aee7b4df1a3d2ef5ebf80df87667c4e\", element=\"97d891a0-bb14-47b4-8e08-9e8690e4b1b2\")>,\n",
       " <selenium.webdriver.remote.webelement.WebElement (session=\"9aee7b4df1a3d2ef5ebf80df87667c4e\", element=\"3279be75-4ca4-45de-b1ad-258ad54f1ac5\")>,\n",
       " <selenium.webdriver.remote.webelement.WebElement (session=\"9aee7b4df1a3d2ef5ebf80df87667c4e\", element=\"2dd5801c-3846-4d5e-adf2-973114a60530\")>,\n",
       " <selenium.webdriver.remote.webelement.WebElement (session=\"9aee7b4df1a3d2ef5ebf80df87667c4e\", element=\"23088b53-d0f6-4a58-8aa2-36dc229f61bc\")>,\n",
       " <selenium.webdriver.remote.webelement.WebElement (session=\"9aee7b4df1a3d2ef5ebf80df87667c4e\", element=\"fedea8e9-5ba9-47a8-9914-5dd6e13209f1\")>,\n",
       " <selenium.webdriver.remote.webelement.WebElement (session=\"9aee7b4df1a3d2ef5ebf80df87667c4e\", element=\"6a56240f-f811-4309-82e5-32e26015fe09\")>,\n",
       " <selenium.webdriver.remote.webelement.WebElement (session=\"9aee7b4df1a3d2ef5ebf80df87667c4e\", element=\"aa5f358c-9049-40b3-b378-23b2fc37a795\")>,\n",
       " <selenium.webdriver.remote.webelement.WebElement (session=\"9aee7b4df1a3d2ef5ebf80df87667c4e\", element=\"559ee859-f559-45fb-b1c2-d9bea329055b\")>,\n",
       " <selenium.webdriver.remote.webelement.WebElement (session=\"9aee7b4df1a3d2ef5ebf80df87667c4e\", element=\"069f8fd5-a9b8-4439-bc61-fc30d88bd2c7\")>,\n",
       " <selenium.webdriver.remote.webelement.WebElement (session=\"9aee7b4df1a3d2ef5ebf80df87667c4e\", element=\"2d57da2c-f468-4394-b305-4ac90aabd1a9\")>,\n",
       " <selenium.webdriver.remote.webelement.WebElement (session=\"9aee7b4df1a3d2ef5ebf80df87667c4e\", element=\"0bc607fb-24ca-4f77-80f6-1a1c5553a978\")>,\n",
       " <selenium.webdriver.remote.webelement.WebElement (session=\"9aee7b4df1a3d2ef5ebf80df87667c4e\", element=\"87864974-e7b1-4369-a1f4-8e34185582b3\")>,\n",
       " <selenium.webdriver.remote.webelement.WebElement (session=\"9aee7b4df1a3d2ef5ebf80df87667c4e\", element=\"006e1718-6664-4765-9314-2b285d3e604d\")>,\n",
       " <selenium.webdriver.remote.webelement.WebElement (session=\"9aee7b4df1a3d2ef5ebf80df87667c4e\", element=\"b6af69e1-9e6d-4e70-8828-0d235e426149\")>,\n",
       " <selenium.webdriver.remote.webelement.WebElement (session=\"9aee7b4df1a3d2ef5ebf80df87667c4e\", element=\"ab7cdeef-00c1-40f1-8b6d-a797bcd06835\")>,\n",
       " <selenium.webdriver.remote.webelement.WebElement (session=\"9aee7b4df1a3d2ef5ebf80df87667c4e\", element=\"d2210f94-8f97-4695-98c8-6fec3563e308\")>,\n",
       " <selenium.webdriver.remote.webelement.WebElement (session=\"9aee7b4df1a3d2ef5ebf80df87667c4e\", element=\"be25c04e-52da-4d9f-a73b-d35df6e76b00\")>,\n",
       " <selenium.webdriver.remote.webelement.WebElement (session=\"9aee7b4df1a3d2ef5ebf80df87667c4e\", element=\"0b4e110f-9773-4dd4-ad61-945416554194\")>,\n",
       " <selenium.webdriver.remote.webelement.WebElement (session=\"9aee7b4df1a3d2ef5ebf80df87667c4e\", element=\"1546a0cb-7f44-4952-9277-402d066391ee\")>]"
      ]
     },
     "execution_count": 71,
     "metadata": {},
     "output_type": "execute_result"
    }
   ],
   "source": [
    "mi_salary=driver.find_elements_by_xpath(r\"//div[@class=('common__RangeBarStyle__values common__flex__justifySpaceBetween common__flex__container ')]/span[1]\")\n",
    "mi_salary"
   ]
  },
  {
   "cell_type": "code",
   "execution_count": 72,
   "metadata": {},
   "outputs": [
    {
     "data": {
      "text/plain": [
       "['₹456K', '₹420K', '₹585K', '₹336K', '₹595K']"
      ]
     },
     "execution_count": 72,
     "metadata": {},
     "output_type": "execute_result"
    }
   ],
   "source": [
    "for i in mi_salary:\n",
    "    min_salary.append(i.text)\n",
    "    \n",
    "min_salary[0:5]  "
   ]
  },
  {
   "cell_type": "code",
   "execution_count": 73,
   "metadata": {},
   "outputs": [
    {
     "data": {
      "text/plain": [
       "[<selenium.webdriver.remote.webelement.WebElement (session=\"9aee7b4df1a3d2ef5ebf80df87667c4e\", element=\"2034ad5c-00bd-4b44-8e8c-50d2637b0ceb\")>,\n",
       " <selenium.webdriver.remote.webelement.WebElement (session=\"9aee7b4df1a3d2ef5ebf80df87667c4e\", element=\"e4d4ba64-01c4-4812-9477-9d55e2ec13d4\")>,\n",
       " <selenium.webdriver.remote.webelement.WebElement (session=\"9aee7b4df1a3d2ef5ebf80df87667c4e\", element=\"ea59b7f9-a467-4bc0-81bd-007f5e719fdd\")>,\n",
       " <selenium.webdriver.remote.webelement.WebElement (session=\"9aee7b4df1a3d2ef5ebf80df87667c4e\", element=\"9c43a47d-8051-44c5-a1a3-9594dd05de71\")>,\n",
       " <selenium.webdriver.remote.webelement.WebElement (session=\"9aee7b4df1a3d2ef5ebf80df87667c4e\", element=\"ba1c8827-1b65-4934-bcf1-0a1be99fcd90\")>,\n",
       " <selenium.webdriver.remote.webelement.WebElement (session=\"9aee7b4df1a3d2ef5ebf80df87667c4e\", element=\"fcf7daca-4993-4004-9f55-0be5e2d0fe2e\")>,\n",
       " <selenium.webdriver.remote.webelement.WebElement (session=\"9aee7b4df1a3d2ef5ebf80df87667c4e\", element=\"3ec30631-3d06-47c7-8ea4-092b62cd3d6c\")>,\n",
       " <selenium.webdriver.remote.webelement.WebElement (session=\"9aee7b4df1a3d2ef5ebf80df87667c4e\", element=\"8603c99a-807d-4048-b4e5-7cc4dd6d94ba\")>,\n",
       " <selenium.webdriver.remote.webelement.WebElement (session=\"9aee7b4df1a3d2ef5ebf80df87667c4e\", element=\"a7193c86-3af9-4066-a103-74501c24b3d9\")>,\n",
       " <selenium.webdriver.remote.webelement.WebElement (session=\"9aee7b4df1a3d2ef5ebf80df87667c4e\", element=\"1c8d7599-3034-409c-999a-3981319c697c\")>,\n",
       " <selenium.webdriver.remote.webelement.WebElement (session=\"9aee7b4df1a3d2ef5ebf80df87667c4e\", element=\"aca7a639-1001-492a-aea8-41ea1208049c\")>,\n",
       " <selenium.webdriver.remote.webelement.WebElement (session=\"9aee7b4df1a3d2ef5ebf80df87667c4e\", element=\"7d275bd9-fbad-4774-84c0-3e4f1c973e24\")>,\n",
       " <selenium.webdriver.remote.webelement.WebElement (session=\"9aee7b4df1a3d2ef5ebf80df87667c4e\", element=\"92d30c01-4a2e-4b6f-8e4e-d44ced7460ee\")>,\n",
       " <selenium.webdriver.remote.webelement.WebElement (session=\"9aee7b4df1a3d2ef5ebf80df87667c4e\", element=\"cf873b8f-2602-408f-b829-39286bc221ff\")>,\n",
       " <selenium.webdriver.remote.webelement.WebElement (session=\"9aee7b4df1a3d2ef5ebf80df87667c4e\", element=\"7f09b3fc-ba95-4839-a644-27385daeb1c0\")>,\n",
       " <selenium.webdriver.remote.webelement.WebElement (session=\"9aee7b4df1a3d2ef5ebf80df87667c4e\", element=\"9efef0b0-5a80-4429-8c08-08d9cb7260dd\")>,\n",
       " <selenium.webdriver.remote.webelement.WebElement (session=\"9aee7b4df1a3d2ef5ebf80df87667c4e\", element=\"2e6fa9b1-de3f-4a7b-b9c9-51adbc986e77\")>,\n",
       " <selenium.webdriver.remote.webelement.WebElement (session=\"9aee7b4df1a3d2ef5ebf80df87667c4e\", element=\"94af3231-c8cc-48eb-b485-bf09b8908c6a\")>,\n",
       " <selenium.webdriver.remote.webelement.WebElement (session=\"9aee7b4df1a3d2ef5ebf80df87667c4e\", element=\"9c39a270-8db5-4bdf-b09f-d2c54b988305\")>,\n",
       " <selenium.webdriver.remote.webelement.WebElement (session=\"9aee7b4df1a3d2ef5ebf80df87667c4e\", element=\"6347063d-856e-4543-9a88-772818c45a70\")>]"
      ]
     },
     "execution_count": 73,
     "metadata": {},
     "output_type": "execute_result"
    }
   ],
   "source": [
    "mx_salary=driver.find_elements_by_xpath(r\"//div[@class=('common__RangeBarStyle__values common__flex__justifySpaceBetween common__flex__container ')]/span[2]\")\n",
    "mx_salary"
   ]
  },
  {
   "cell_type": "code",
   "execution_count": 74,
   "metadata": {},
   "outputs": [
    {
     "data": {
      "text/plain": [
       "['₹11,789K', '₹1,636K', '₹2,200K', '₹1,024K', '₹2,769K']"
      ]
     },
     "execution_count": 74,
     "metadata": {},
     "output_type": "execute_result"
    }
   ],
   "source": [
    "for i in mx_salary:\n",
    "    max_salary.append(i.text)\n",
    "    \n",
    "max_salary[0:5]  "
   ]
  },
  {
   "cell_type": "code",
   "execution_count": 75,
   "metadata": {},
   "outputs": [
    {
     "name": "stdout",
     "output_type": "stream",
     "text": [
      "20 20 20 20 20\n"
     ]
    }
   ],
   "source": [
    "print(len(company_name),len(no_salary),len(avg_salary),len(min_salary),len(max_salary))"
   ]
  },
  {
   "cell_type": "code",
   "execution_count": 76,
   "metadata": {},
   "outputs": [],
   "source": [
    "import pandas as pd"
   ]
  },
  {
   "cell_type": "code",
   "execution_count": 78,
   "metadata": {},
   "outputs": [
    {
     "data": {
      "text/html": [
       "<div>\n",
       "<style scoped>\n",
       "    .dataframe tbody tr th:only-of-type {\n",
       "        vertical-align: middle;\n",
       "    }\n",
       "\n",
       "    .dataframe tbody tr th {\n",
       "        vertical-align: top;\n",
       "    }\n",
       "\n",
       "    .dataframe thead th {\n",
       "        text-align: right;\n",
       "    }\n",
       "</style>\n",
       "<table border=\"1\" class=\"dataframe\">\n",
       "  <thead>\n",
       "    <tr style=\"text-align: right;\">\n",
       "      <th></th>\n",
       "      <th>Company</th>\n",
       "      <th>no. of salaries</th>\n",
       "      <th>Average Base Salaries in (INR)</th>\n",
       "      <th>Low</th>\n",
       "      <th>High</th>\n",
       "    </tr>\n",
       "  </thead>\n",
       "  <tbody>\n",
       "    <tr>\n",
       "      <th>0</th>\n",
       "      <td>Delhivery</td>\n",
       "      <td>13 salaries</td>\n",
       "      <td>₹ 12,81,419\\n/yr</td>\n",
       "      <td>₹456K</td>\n",
       "      <td>₹11,789K</td>\n",
       "    </tr>\n",
       "    <tr>\n",
       "      <th>1</th>\n",
       "      <td>Ericsson-Worldwide</td>\n",
       "      <td>11 salaries</td>\n",
       "      <td>₹ 7,52,052\\n/yr</td>\n",
       "      <td>₹420K</td>\n",
       "      <td>₹1,636K</td>\n",
       "    </tr>\n",
       "    <tr>\n",
       "      <th>2</th>\n",
       "      <td>Accenture</td>\n",
       "      <td>10 salaries</td>\n",
       "      <td>₹ 9,98,925\\n/yr</td>\n",
       "      <td>₹585K</td>\n",
       "      <td>₹2,200K</td>\n",
       "    </tr>\n",
       "    <tr>\n",
       "      <th>3</th>\n",
       "      <td>Tata Consultancy Services</td>\n",
       "      <td>9 salaries</td>\n",
       "      <td>₹ 6,02,000\\n/yr</td>\n",
       "      <td>₹336K</td>\n",
       "      <td>₹1,024K</td>\n",
       "    </tr>\n",
       "    <tr>\n",
       "      <th>4</th>\n",
       "      <td>IBM</td>\n",
       "      <td>9 salaries</td>\n",
       "      <td>₹ 7,71,657\\n/yr</td>\n",
       "      <td>₹595K</td>\n",
       "      <td>₹2,769K</td>\n",
       "    </tr>\n",
       "    <tr>\n",
       "      <th>5</th>\n",
       "      <td>UnitedHealth Group</td>\n",
       "      <td>8 salaries</td>\n",
       "      <td>₹ 12,22,902\\n/yr</td>\n",
       "      <td>₹727K</td>\n",
       "      <td>₹1,597K</td>\n",
       "    </tr>\n",
       "    <tr>\n",
       "      <th>6</th>\n",
       "      <td>Valiance Solutions</td>\n",
       "      <td>8 salaries</td>\n",
       "      <td>₹ 7,91,015\\n/yr</td>\n",
       "      <td>₹509K</td>\n",
       "      <td>₹1,168K</td>\n",
       "    </tr>\n",
       "    <tr>\n",
       "      <th>7</th>\n",
       "      <td>Innovaccer</td>\n",
       "      <td>7 salaries</td>\n",
       "      <td>₹ 12,15,138\\n/yr</td>\n",
       "      <td>₹629K</td>\n",
       "      <td>₹1,719K</td>\n",
       "    </tr>\n",
       "    <tr>\n",
       "      <th>8</th>\n",
       "      <td>Cognizant Technology Solutions</td>\n",
       "      <td>6 salaries</td>\n",
       "      <td>₹ 10,21,889\\n/yr</td>\n",
       "      <td>₹804K</td>\n",
       "      <td>₹1,281K</td>\n",
       "    </tr>\n",
       "    <tr>\n",
       "      <th>9</th>\n",
       "      <td>ZS Associates</td>\n",
       "      <td>5 salaries</td>\n",
       "      <td>₹ 10,00,000\\n/yr</td>\n",
       "      <td>₹205K</td>\n",
       "      <td>₹1,835K</td>\n",
       "    </tr>\n",
       "  </tbody>\n",
       "</table>\n",
       "</div>"
      ],
      "text/plain": [
       "                          Company no. of salaries  \\\n",
       "0                       Delhivery     13 salaries   \n",
       "1              Ericsson-Worldwide     11 salaries   \n",
       "2                       Accenture     10 salaries   \n",
       "3       Tata Consultancy Services      9 salaries   \n",
       "4                             IBM      9 salaries   \n",
       "5              UnitedHealth Group      8 salaries   \n",
       "6              Valiance Solutions      8 salaries   \n",
       "7                      Innovaccer      7 salaries   \n",
       "8  Cognizant Technology Solutions      6 salaries   \n",
       "9                   ZS Associates      5 salaries   \n",
       "\n",
       "  Average Base Salaries in (INR)    Low      High  \n",
       "0               ₹ 12,81,419\\n/yr  ₹456K  ₹11,789K  \n",
       "1                ₹ 7,52,052\\n/yr  ₹420K   ₹1,636K  \n",
       "2                ₹ 9,98,925\\n/yr  ₹585K   ₹2,200K  \n",
       "3                ₹ 6,02,000\\n/yr  ₹336K   ₹1,024K  \n",
       "4                ₹ 7,71,657\\n/yr  ₹595K   ₹2,769K  \n",
       "5               ₹ 12,22,902\\n/yr  ₹727K   ₹1,597K  \n",
       "6                ₹ 7,91,015\\n/yr  ₹509K   ₹1,168K  \n",
       "7               ₹ 12,15,138\\n/yr  ₹629K   ₹1,719K  \n",
       "8               ₹ 10,21,889\\n/yr  ₹804K   ₹1,281K  \n",
       "9               ₹ 10,00,000\\n/yr  ₹205K   ₹1,835K  "
      ]
     },
     "execution_count": 78,
     "metadata": {},
     "output_type": "execute_result"
    }
   ],
   "source": [
    "glassdoor=pd.DataFrame({})\n",
    "glassdoor['Company']=company_name[:10]\n",
    "glassdoor['no. of salaries']=no_salary[:10]\n",
    "glassdoor['Average Base Salaries in (INR)']=avg_salary[:10]\n",
    "glassdoor['Low']=min_salary[:10]\n",
    "glassdoor['High']=max_salary[:10]\n",
    "glassdoor"
   ]
  },
  {
   "cell_type": "code",
   "execution_count": null,
   "metadata": {},
   "outputs": [],
   "source": []
  },
  {
   "cell_type": "markdown",
   "metadata": {},
   "source": [
    "# 6.sunglasses at flipkart"
   ]
  },
  {
   "cell_type": "code",
   "execution_count": 79,
   "metadata": {},
   "outputs": [],
   "source": [
    "driver=webdriver.Chrome(r\"C:\\Users\\Dell Laptop\\chromedriver.exe\")"
   ]
  },
  {
   "cell_type": "code",
   "execution_count": 80,
   "metadata": {},
   "outputs": [],
   "source": [
    "urlpage='https://www.flipkart.com/search?q=sunglasses&sid=26x&as=on&as-show=on&otracker=AS_QueryStore_OrganicAutoSuggest_1_6_na_na_na&otracker1=AS_QueryStore_OrganicAutoSuggest_1_6_na_na_na&as-pos=1&as-type=RECENT&suggestionId=sunglasses%7CSunglasses&requestId=8796e716-c523-4802-b63a-0b2a7ab29d38&as-searchtext=sungla'"
   ]
  },
  {
   "cell_type": "code",
   "execution_count": 81,
   "metadata": {},
   "outputs": [],
   "source": [
    "driver.get(urlpage)"
   ]
  },
  {
   "cell_type": "code",
   "execution_count": 82,
   "metadata": {},
   "outputs": [],
   "source": [
    "brand=[]\n",
    "price=[]\n",
    "prod_des=[]\n",
    "discount=[]"
   ]
  },
  {
   "cell_type": "code",
   "execution_count": 83,
   "metadata": {},
   "outputs": [],
   "source": [
    "from selenium.common.exceptions import StaleElementReferenceException\n",
    "from selenium.webdriver.support.ui import WebDriverWait\n",
    "from selenium.webdriver.support import expected_conditions as EC\n",
    "from selenium.webdriver.common.by import By"
   ]
  },
  {
   "cell_type": "code",
   "execution_count": 92,
   "metadata": {},
   "outputs": [],
   "source": [
    "try:\n",
    "    for i in range(0,5):\n",
    "        brand_tag=driver.find_elements_by_xpath(r\"//div[@class='_2WkVRV']\")\n",
    "    for i in brand_tag:\n",
    "        brand.append(i.text)\n",
    "        \n",
    "        \n",
    "    product_tag=driver.find_elements_by_xpath(r\"//a[@class='IRpwTa']\")\n",
    "    for i in product_tag:\n",
    "        prod_des.append(i.text)\n",
    "        \n",
    "    price_tag=driver.find_elements_by_xpath(r\"//div[@class='_30jeq3']\")\n",
    "    for i in price_tag:\n",
    "        price.append(i.text)\n",
    "        \n",
    "    dis_tag=driver.find_elements_by_xpath(r\"//div[@class='_3Ay6Sb']\")\n",
    "    for i in dis_tag:\n",
    "        discount.append(i.text)\n",
    "\n",
    "    driver.find_element_by_xpath(\"//a[@class='_1LKTO3']\").click()\n",
    "    \n",
    "except StaleElementReferenceException as e:\n",
    "    \n",
    "    print(\"EXCEPTION RAISED : \",e)\n",
    "    print(\"Refreshing the page!!\")\n",
    "    driver.get(\"https://www.flipkart.com/search?q=sunglasses&sid=26x&as=on&as-show=on&otracker=AS_QueryStore_OrganicAutoSuggest_1_6_na_na_na&otracker1=AS_QueryStore_OrganicAutoSuggest_1_6_na_na_na&as-pos=1&as-type=RECENT&suggestionId=sunglasses%7CSunglasses&requestId=8796e716-c523-4802-b63a-0b2a7ab29d38&as-searchtext=sungla%27\")\n",
    "    WebDriverWait(Driver,delay).until(EC.presence_of_element_located(By.CLASS_NAME,'_2WkVRV')) \n",
    "    brand_tag=driver.find_elements_by_xpath(r\"//div[@class='_2WkVRV']\")\n",
    "    for i in brand_tag:\n",
    "        brand.append(i.text)\n",
    "        \n",
    "        \n",
    "    product_tag=driver.find_elements_by_xpath(r\"//a[@class='IRpwTa']\")\n",
    "    for i in product_tag:\n",
    "        prod_des.append(i.text)\n",
    "        \n",
    "    price_tag=driver.find_elements_by_xpath(r\"//div[@class='_30jeq3']\")\n",
    "    for i in price_tag:\n",
    "        price.append(i.text)\n",
    "        \n",
    "    dis_tag=driver.find_elements_by_xpath(r\"//div[@class='_3Ay6Sb']\")\n",
    "    for i in dis_tag:\n",
    "        discount.append(i.text)   "
   ]
  },
  {
   "cell_type": "code",
   "execution_count": 93,
   "metadata": {},
   "outputs": [
    {
     "name": "stdout",
     "output_type": "stream",
     "text": [
      "160 160 122 160\n"
     ]
    }
   ],
   "source": [
    "print(len(brand),len(price),len(prod_des),len(discount))"
   ]
  },
  {
   "cell_type": "code",
   "execution_count": 94,
   "metadata": {},
   "outputs": [],
   "source": [
    "import pandas as pd"
   ]
  },
  {
   "cell_type": "code",
   "execution_count": 95,
   "metadata": {},
   "outputs": [
    {
     "data": {
      "text/html": [
       "<div>\n",
       "<style scoped>\n",
       "    .dataframe tbody tr th:only-of-type {\n",
       "        vertical-align: middle;\n",
       "    }\n",
       "\n",
       "    .dataframe tbody tr th {\n",
       "        vertical-align: top;\n",
       "    }\n",
       "\n",
       "    .dataframe thead th {\n",
       "        text-align: right;\n",
       "    }\n",
       "</style>\n",
       "<table border=\"1\" class=\"dataframe\">\n",
       "  <thead>\n",
       "    <tr style=\"text-align: right;\">\n",
       "      <th></th>\n",
       "      <th>Brand</th>\n",
       "      <th>Price</th>\n",
       "      <th>Description</th>\n",
       "      <th>Discount</th>\n",
       "    </tr>\n",
       "  </thead>\n",
       "  <tbody>\n",
       "    <tr>\n",
       "      <th>0</th>\n",
       "      <td>Specsmakers</td>\n",
       "      <td>₹940</td>\n",
       "      <td>Polarized Aviator Sunglasses (58)</td>\n",
       "      <td>52% off</td>\n",
       "    </tr>\n",
       "    <tr>\n",
       "      <th>1</th>\n",
       "      <td>Billion</td>\n",
       "      <td>₹296</td>\n",
       "      <td>UV Protection, Riding Glasses Wrap-around Sung...</td>\n",
       "      <td>77% off</td>\n",
       "    </tr>\n",
       "    <tr>\n",
       "      <th>2</th>\n",
       "      <td>FDA COLLECTION</td>\n",
       "      <td>₹199</td>\n",
       "      <td>UV Protection, Polarized, Mirrored Rectangular...</td>\n",
       "      <td>84% off</td>\n",
       "    </tr>\n",
       "    <tr>\n",
       "      <th>3</th>\n",
       "      <td>shah collections</td>\n",
       "      <td>₹219</td>\n",
       "      <td>Gradient, UV Protection Wayfarer Sunglasses (F...</td>\n",
       "      <td>78% off</td>\n",
       "    </tr>\n",
       "    <tr>\n",
       "      <th>4</th>\n",
       "      <td>Fastrack</td>\n",
       "      <td>₹699</td>\n",
       "      <td>UV Protection, Mirrored Retro Square Sunglasse...</td>\n",
       "      <td>12% off</td>\n",
       "    </tr>\n",
       "    <tr>\n",
       "      <th>...</th>\n",
       "      <td>...</td>\n",
       "      <td>...</td>\n",
       "      <td>...</td>\n",
       "      <td>...</td>\n",
       "    </tr>\n",
       "    <tr>\n",
       "      <th>95</th>\n",
       "      <td>povty</td>\n",
       "      <td>₹245</td>\n",
       "      <td>Gradient, UV Protection Aviator Sunglasses (Fr...</td>\n",
       "      <td>75% off</td>\n",
       "    </tr>\n",
       "    <tr>\n",
       "      <th>96</th>\n",
       "      <td>Deixels</td>\n",
       "      <td>₹199</td>\n",
       "      <td>Polarized, Night Vision, Riding Glasses, UV Pr...</td>\n",
       "      <td>88% off</td>\n",
       "    </tr>\n",
       "    <tr>\n",
       "      <th>97</th>\n",
       "      <td>Phenomenal</td>\n",
       "      <td>₹399</td>\n",
       "      <td>UV Protection Round Sunglasses (55)</td>\n",
       "      <td>80% off</td>\n",
       "    </tr>\n",
       "    <tr>\n",
       "      <th>98</th>\n",
       "      <td>Trendy Glasses</td>\n",
       "      <td>₹211</td>\n",
       "      <td>UV Protection Aviator Sunglasses (Free Size)</td>\n",
       "      <td>83% off</td>\n",
       "    </tr>\n",
       "    <tr>\n",
       "      <th>99</th>\n",
       "      <td>Gansta</td>\n",
       "      <td>₹269</td>\n",
       "      <td>UV Protection Wayfarer Sunglasses (55)</td>\n",
       "      <td>86% off</td>\n",
       "    </tr>\n",
       "  </tbody>\n",
       "</table>\n",
       "<p>100 rows × 4 columns</p>\n",
       "</div>"
      ],
      "text/plain": [
       "               Brand Price                                        Description  \\\n",
       "0        Specsmakers  ₹940                  Polarized Aviator Sunglasses (58)   \n",
       "1            Billion  ₹296  UV Protection, Riding Glasses Wrap-around Sung...   \n",
       "2     FDA COLLECTION  ₹199  UV Protection, Polarized, Mirrored Rectangular...   \n",
       "3   shah collections  ₹219  Gradient, UV Protection Wayfarer Sunglasses (F...   \n",
       "4           Fastrack  ₹699  UV Protection, Mirrored Retro Square Sunglasse...   \n",
       "..               ...   ...                                                ...   \n",
       "95             povty  ₹245  Gradient, UV Protection Aviator Sunglasses (Fr...   \n",
       "96           Deixels  ₹199  Polarized, Night Vision, Riding Glasses, UV Pr...   \n",
       "97        Phenomenal  ₹399                UV Protection Round Sunglasses (55)   \n",
       "98    Trendy Glasses  ₹211       UV Protection Aviator Sunglasses (Free Size)   \n",
       "99            Gansta  ₹269             UV Protection Wayfarer Sunglasses (55)   \n",
       "\n",
       "   Discount  \n",
       "0   52% off  \n",
       "1   77% off  \n",
       "2   84% off  \n",
       "3   78% off  \n",
       "4   12% off  \n",
       "..      ...  \n",
       "95  75% off  \n",
       "96  88% off  \n",
       "97  80% off  \n",
       "98  83% off  \n",
       "99  86% off  \n",
       "\n",
       "[100 rows x 4 columns]"
      ]
     },
     "execution_count": 95,
     "metadata": {},
     "output_type": "execute_result"
    }
   ],
   "source": [
    "sunglasses=pd.DataFrame({})\n",
    "sunglasses['Brand']=brand[0:100]\n",
    "sunglasses['Price']=price[0:100]\n",
    "sunglasses['Description']=prod_des[0:100]\n",
    "sunglasses['Discount']=discount[0:100]\n",
    "sunglasses"
   ]
  },
  {
   "cell_type": "markdown",
   "metadata": {},
   "source": [
    "# 7.phone review from flipkart"
   ]
  },
  {
   "cell_type": "code",
   "execution_count": 102,
   "metadata": {},
   "outputs": [],
   "source": [
    "driver=webdriver.Chrome(r\"C:\\Users\\Dell Laptop\\chromedriver.exe\")"
   ]
  },
  {
   "cell_type": "code",
   "execution_count": 103,
   "metadata": {},
   "outputs": [],
   "source": [
    "url='https://www.flipkart.com/apple-iphone-11-black-64-gb-includes-earpods-power-adapter/product-reviews/itm0f37c2240b217?pid=MOBFKCTSVZAXUHGR&lid=LSTMOBFKCTSVZAXUHGR3QP11A&marketplace=FLIPKART'"
   ]
  },
  {
   "cell_type": "code",
   "execution_count": 104,
   "metadata": {},
   "outputs": [],
   "source": [
    "driver.get(url)"
   ]
  },
  {
   "cell_type": "code",
   "execution_count": 105,
   "metadata": {},
   "outputs": [],
   "source": [
    "rating=[]\n",
    "summary=[]\n",
    "review=[]"
   ]
  },
  {
   "cell_type": "code",
   "execution_count": 135,
   "metadata": {},
   "outputs": [],
   "source": [
    "try:\n",
    "    for i in range(0,14):\n",
    "        rating_tag=driver.find_elements_by_xpath(r\"//div[@class=('_3LWZlK _1BLPMq')]\")\n",
    "    for i in rating_tag:\n",
    "        rating.append(i.text)\n",
    "        \n",
    "        \n",
    "        \n",
    "    summary_tag=driver.find_elements_by_xpath(r\"//p[@class=('_2-N8zT')]\")\n",
    "    for i in summary_tag:\n",
    "        summary.append(i.text)    \n",
    "        \n",
    "        \n",
    "    review_tag=driver.find_elements_by_xpath(r\"//div[@class=('t-ZTKy')]\")\n",
    "    for i in review_tag:\n",
    "        review.append(i.text)\n",
    "        \n",
    "    driver.find_element_by_xpath(\"//a[@class='_1LKTO3']\").click()\n",
    "    \n",
    "except StaleElementReferenceException as e:\n",
    "    \n",
    "    print(\"EXCEPTION RAISED : \",e)\n",
    "    print(\"Refreshing the page!!\")\n",
    "    driver.get(\"https://www.flipkart.com/apple-iphone-11-black-64-gb-includes-earpods-power-adapter/product-reviews/itm0f37c2240b217?pid=MOBFKCTSVZAXUHGR&lid=LSTMOBFKCTSVZAXUHGR3QP11A&marketplace=FLIPKART\")\n",
    "    WebDriverWait(Driver,delay).until(EC.presence_of_element_located(By.CLASS_NAME,'_3LWZlK _1BLPMq')) \n",
    "    rating_tag=driver.find_elements_by_xpath(r\"//div[@class=('_3LWZlK _1BLPMq')]\")\n",
    "    for i in rating_tag:\n",
    "        rating.append(i.text)\n",
    "        \n",
    "        \n",
    "        \n",
    "    summary_tag=driver.find_elements_by_xpath(r\"//p[@class=('_2-N8zT')]\")\n",
    "    for i in summary_tag:\n",
    "        summary.append(i.text)    \n",
    "        \n",
    "        \n",
    "    review_tag=driver.find_elements_by_xpath(r\"//div[@class=('t-ZTKy')]\")\n",
    "    for i in review_tag:\n",
    "        review.append(i.text)"
   ]
  },
  {
   "cell_type": "code",
   "execution_count": 136,
   "metadata": {},
   "outputs": [
    {
     "name": "stdout",
     "output_type": "stream",
     "text": [
      "106 130 130\n"
     ]
    }
   ],
   "source": [
    "print(len(rating),len(summary),len(review))"
   ]
  },
  {
   "cell_type": "code",
   "execution_count": 108,
   "metadata": {},
   "outputs": [],
   "source": [
    "import pandas as pd"
   ]
  },
  {
   "cell_type": "code",
   "execution_count": 137,
   "metadata": {},
   "outputs": [
    {
     "data": {
      "text/html": [
       "<div>\n",
       "<style scoped>\n",
       "    .dataframe tbody tr th:only-of-type {\n",
       "        vertical-align: middle;\n",
       "    }\n",
       "\n",
       "    .dataframe tbody tr th {\n",
       "        vertical-align: top;\n",
       "    }\n",
       "\n",
       "    .dataframe thead th {\n",
       "        text-align: right;\n",
       "    }\n",
       "</style>\n",
       "<table border=\"1\" class=\"dataframe\">\n",
       "  <thead>\n",
       "    <tr style=\"text-align: right;\">\n",
       "      <th></th>\n",
       "      <th>Rating</th>\n",
       "      <th>Summary</th>\n",
       "      <th>Detail</th>\n",
       "    </tr>\n",
       "  </thead>\n",
       "  <tbody>\n",
       "    <tr>\n",
       "      <th>0</th>\n",
       "      <td>5</td>\n",
       "      <td>Perfect product!</td>\n",
       "      <td>Amazing phone with great cameras and better ba...</td>\n",
       "    </tr>\n",
       "    <tr>\n",
       "      <th>1</th>\n",
       "      <td>5</td>\n",
       "      <td>Great product</td>\n",
       "      <td>Amazing Powerful and Durable Gadget.\\n\\nI’m am...</td>\n",
       "    </tr>\n",
       "    <tr>\n",
       "      <th>2</th>\n",
       "      <td>5</td>\n",
       "      <td>Perfect product!</td>\n",
       "      <td>It’s a must buy who is looking for an upgrade ...</td>\n",
       "    </tr>\n",
       "    <tr>\n",
       "      <th>3</th>\n",
       "      <td>5</td>\n",
       "      <td>Highly recommended</td>\n",
       "      <td>iphone 11 is a very good phone to buy only if ...</td>\n",
       "    </tr>\n",
       "    <tr>\n",
       "      <th>4</th>\n",
       "      <td>5</td>\n",
       "      <td>Perfect product!</td>\n",
       "      <td>Value for money❤️❤️\\nIts awesome mobile phone ...</td>\n",
       "    </tr>\n",
       "    <tr>\n",
       "      <th>...</th>\n",
       "      <td>...</td>\n",
       "      <td>...</td>\n",
       "      <td>...</td>\n",
       "    </tr>\n",
       "    <tr>\n",
       "      <th>95</th>\n",
       "      <td>5</td>\n",
       "      <td>Great product</td>\n",
       "      <td>Wonderful shoes and nice fitting</td>\n",
       "    </tr>\n",
       "    <tr>\n",
       "      <th>96</th>\n",
       "      <td>5</td>\n",
       "      <td>Super!</td>\n",
       "      <td>Hmm... Nice flexible shoes...😘 Jzt loved it😍😍</td>\n",
       "    </tr>\n",
       "    <tr>\n",
       "      <th>97</th>\n",
       "      <td>5</td>\n",
       "      <td>Awesome</td>\n",
       "      <td>I like this product I happy to order this prod...</td>\n",
       "    </tr>\n",
       "    <tr>\n",
       "      <th>98</th>\n",
       "      <td>5</td>\n",
       "      <td>Terrific</td>\n",
       "      <td>awesome loved it nice product in given price</td>\n",
       "    </tr>\n",
       "    <tr>\n",
       "      <th>99</th>\n",
       "      <td>5</td>\n",
       "      <td>Highly recommended</td>\n",
       "      <td>Its superb at this price....</td>\n",
       "    </tr>\n",
       "  </tbody>\n",
       "</table>\n",
       "<p>100 rows × 3 columns</p>\n",
       "</div>"
      ],
      "text/plain": [
       "   Rating             Summary  \\\n",
       "0       5    Perfect product!   \n",
       "1       5       Great product   \n",
       "2       5    Perfect product!   \n",
       "3       5  Highly recommended   \n",
       "4       5    Perfect product!   \n",
       "..    ...                 ...   \n",
       "95      5       Great product   \n",
       "96      5              Super!   \n",
       "97      5             Awesome   \n",
       "98      5            Terrific   \n",
       "99      5  Highly recommended   \n",
       "\n",
       "                                               Detail  \n",
       "0   Amazing phone with great cameras and better ba...  \n",
       "1   Amazing Powerful and Durable Gadget.\\n\\nI’m am...  \n",
       "2   It’s a must buy who is looking for an upgrade ...  \n",
       "3   iphone 11 is a very good phone to buy only if ...  \n",
       "4   Value for money❤️❤️\\nIts awesome mobile phone ...  \n",
       "..                                                ...  \n",
       "95                   Wonderful shoes and nice fitting  \n",
       "96      Hmm... Nice flexible shoes...😘 Jzt loved it😍😍  \n",
       "97  I like this product I happy to order this prod...  \n",
       "98       awesome loved it nice product in given price  \n",
       "99                       Its superb at this price....  \n",
       "\n",
       "[100 rows x 3 columns]"
      ]
     },
     "execution_count": 137,
     "metadata": {},
     "output_type": "execute_result"
    }
   ],
   "source": [
    "phone=pd.DataFrame({})\n",
    "phone['Rating']=rating[:100]\n",
    "phone['Summary']=summary[:100]\n",
    "phone['Detail']=review[:100]\n",
    "phone"
   ]
  },
  {
   "cell_type": "code",
   "execution_count": null,
   "metadata": {},
   "outputs": [],
   "source": []
  },
  {
   "cell_type": "code",
   "execution_count": null,
   "metadata": {},
   "outputs": [],
   "source": []
  },
  {
   "cell_type": "markdown",
   "metadata": {},
   "source": [
    "# 8.sneakers at flipkart"
   ]
  },
  {
   "cell_type": "code",
   "execution_count": 110,
   "metadata": {},
   "outputs": [],
   "source": [
    "driver=webdriver.Chrome(r\"C:\\Users\\Dell Laptop\\chromedriver.exe\")"
   ]
  },
  {
   "cell_type": "code",
   "execution_count": 111,
   "metadata": {},
   "outputs": [],
   "source": [
    "driver.get('https://www.flipkart.com/search?q=sneakers&otracker=search&otracker1=search&marketplace=FLIPKART&as-show=on&as=off')"
   ]
  },
  {
   "cell_type": "code",
   "execution_count": 112,
   "metadata": {},
   "outputs": [],
   "source": [
    "brand=[]\n",
    "prod_des=[]\n",
    "discount=[]\n",
    "price=[]"
   ]
  },
  {
   "cell_type": "code",
   "execution_count": 144,
   "metadata": {},
   "outputs": [],
   "source": [
    "try:\n",
    "    for i in range(0,9):\n",
    "        brand_tag=driver.find_elements_by_xpath(r\"//div[@class='_2WkVRV']\")\n",
    "    for i in brand_tag:\n",
    "        brand.append(i.text)\n",
    "        \n",
    "        \n",
    "    product_tag=driver.find_elements_by_xpath(r\"//a[@class='IRpwTa']\")\n",
    "    for i in product_tag:\n",
    "        prod_des.append(i.text)\n",
    "        \n",
    "    price_tag=driver.find_elements_by_xpath(r\"//div[@class='_30jeq3']\")\n",
    "    for i in price_tag:\n",
    "        price.append(i.text)\n",
    "        \n",
    "    dis_tag=driver.find_elements_by_xpath(r\"//div[@class='_3Ay6Sb']\")\n",
    "    for i in dis_tag:\n",
    "        discount.append(i.text)\n",
    "\n",
    "    driver.find_element_by_xpath(\"//a[@class='_1LKTO3']\").click()\n",
    "    \n",
    "except StaleElementReferenceException as e:\n",
    "    \n",
    "    print(\"EXCEPTION RAISED : \",e)\n",
    "    print(\"Refreshing the page!!\")\n",
    "    driver.get(\"https://www.flipkart.com/search?q=sunglasses&sid=26x&as=on&as-show=on&otracker=AS_QueryStore_OrganicAutoSuggest_1_6_na_na_na&otracker1=AS_QueryStore_OrganicAutoSuggest_1_6_na_na_na&as-pos=1&as-type=RECENT&suggestionId=sunglasses%7CSunglasses&requestId=8796e716-c523-4802-b63a-0b2a7ab29d38&as-searchtext=sungla%27\")\n",
    "    WebDriverWait(Driver,delay).until(EC.presence_of_element_located(By.CLASS_NAME,'_2WkVRV')) \n",
    "    brand_tag=driver.find_elements_by_xpath(r\"//div[@class='_2WkVRV']\")\n",
    "    for i in brand_tag:\n",
    "        brand.append(i.text)\n",
    "        \n",
    "        \n",
    "    product_tag=driver.find_elements_by_xpath(r\"//a[@class='IRpwTa']\")\n",
    "    for i in product_tag:\n",
    "        prod_des.append(i.text)\n",
    "        \n",
    "    price_tag=driver.find_elements_by_xpath(r\"//div[@class='_30jeq3']\")\n",
    "    for i in price_tag:\n",
    "        price.append(i.text)\n",
    "        \n",
    "    dis_tag=driver.find_elements_by_xpath(r\"//div[@class='_3Ay6Sb']\")\n",
    "    for i in dis_tag:\n",
    "        discount.append(i.text)"
   ]
  },
  {
   "cell_type": "code",
   "execution_count": 145,
   "metadata": {},
   "outputs": [
    {
     "name": "stdout",
     "output_type": "stream",
     "text": [
      "160 160 131 158\n"
     ]
    }
   ],
   "source": [
    "print(len(brand),len(price),len(prod_des),len(discount))"
   ]
  },
  {
   "cell_type": "code",
   "execution_count": 146,
   "metadata": {},
   "outputs": [
    {
     "data": {
      "text/html": [
       "<div>\n",
       "<style scoped>\n",
       "    .dataframe tbody tr th:only-of-type {\n",
       "        vertical-align: middle;\n",
       "    }\n",
       "\n",
       "    .dataframe tbody tr th {\n",
       "        vertical-align: top;\n",
       "    }\n",
       "\n",
       "    .dataframe thead th {\n",
       "        text-align: right;\n",
       "    }\n",
       "</style>\n",
       "<table border=\"1\" class=\"dataframe\">\n",
       "  <thead>\n",
       "    <tr style=\"text-align: right;\">\n",
       "      <th></th>\n",
       "      <th>Brand</th>\n",
       "      <th>Price</th>\n",
       "      <th>Description</th>\n",
       "      <th>Discount</th>\n",
       "    </tr>\n",
       "  </thead>\n",
       "  <tbody>\n",
       "    <tr>\n",
       "      <th>0</th>\n",
       "      <td>JACK &amp; JONES</td>\n",
       "      <td>₹1,999</td>\n",
       "      <td>Jfwbanna Print Pu Sneakers For Men</td>\n",
       "      <td>50% off</td>\n",
       "    </tr>\n",
       "    <tr>\n",
       "      <th>1</th>\n",
       "      <td>ADIDAS</td>\n",
       "      <td>₹2,123</td>\n",
       "      <td>Adiset M Sneakers For Men</td>\n",
       "      <td>41% off</td>\n",
       "    </tr>\n",
       "    <tr>\n",
       "      <th>2</th>\n",
       "      <td>Chevit</td>\n",
       "      <td>₹499</td>\n",
       "      <td>Combo Pack of 4 Casual Sneakers With Sneakers ...</td>\n",
       "      <td>75% off</td>\n",
       "    </tr>\n",
       "    <tr>\n",
       "      <th>3</th>\n",
       "      <td>Robbie jones</td>\n",
       "      <td>₹399</td>\n",
       "      <td>Combo Pack of 4 Latest Collection Stylish Casu...</td>\n",
       "      <td>60% off</td>\n",
       "    </tr>\n",
       "    <tr>\n",
       "      <th>4</th>\n",
       "      <td>World Wear Footwear</td>\n",
       "      <td>₹499</td>\n",
       "      <td>Combo Pack Of 4 Canvas Sneakers For Men</td>\n",
       "      <td>75% off</td>\n",
       "    </tr>\n",
       "    <tr>\n",
       "      <th>...</th>\n",
       "      <td>...</td>\n",
       "      <td>...</td>\n",
       "      <td>...</td>\n",
       "      <td>...</td>\n",
       "    </tr>\n",
       "    <tr>\n",
       "      <th>95</th>\n",
       "      <td>Restinfoot</td>\n",
       "      <td>₹389</td>\n",
       "      <td>Casual , Partywear Sneakers Shoes For Men's An...</td>\n",
       "      <td>52% off</td>\n",
       "    </tr>\n",
       "    <tr>\n",
       "      <th>96</th>\n",
       "      <td>Chevit</td>\n",
       "      <td>₹236</td>\n",
       "      <td>Sneakers for men(black_8) Sneakers For Men</td>\n",
       "      <td>50% off</td>\n",
       "    </tr>\n",
       "    <tr>\n",
       "      <th>97</th>\n",
       "      <td>Armado</td>\n",
       "      <td>₹498</td>\n",
       "      <td>DAILY 3.0 Sneakers For Men</td>\n",
       "      <td>62% off</td>\n",
       "    </tr>\n",
       "    <tr>\n",
       "      <th>98</th>\n",
       "      <td>Red Rose</td>\n",
       "      <td>₹379</td>\n",
       "      <td>Sneakers For Men</td>\n",
       "      <td>60% off</td>\n",
       "    </tr>\n",
       "    <tr>\n",
       "      <th>99</th>\n",
       "      <td>Fila</td>\n",
       "      <td>₹959</td>\n",
       "      <td>Smart Casuals Canvas Shoes Combo pack of 2 Sne...</td>\n",
       "      <td>67% off</td>\n",
       "    </tr>\n",
       "  </tbody>\n",
       "</table>\n",
       "<p>100 rows × 4 columns</p>\n",
       "</div>"
      ],
      "text/plain": [
       "                  Brand   Price  \\\n",
       "0          JACK & JONES  ₹1,999   \n",
       "1                ADIDAS  ₹2,123   \n",
       "2                Chevit    ₹499   \n",
       "3          Robbie jones    ₹399   \n",
       "4   World Wear Footwear    ₹499   \n",
       "..                  ...     ...   \n",
       "95           Restinfoot    ₹389   \n",
       "96               Chevit    ₹236   \n",
       "97               Armado    ₹498   \n",
       "98             Red Rose    ₹379   \n",
       "99                 Fila    ₹959   \n",
       "\n",
       "                                          Description Discount  \n",
       "0                  Jfwbanna Print Pu Sneakers For Men  50% off  \n",
       "1                           Adiset M Sneakers For Men  41% off  \n",
       "2   Combo Pack of 4 Casual Sneakers With Sneakers ...  75% off  \n",
       "3   Combo Pack of 4 Latest Collection Stylish Casu...  60% off  \n",
       "4             Combo Pack Of 4 Canvas Sneakers For Men  75% off  \n",
       "..                                                ...      ...  \n",
       "95  Casual , Partywear Sneakers Shoes For Men's An...  52% off  \n",
       "96         Sneakers for men(black_8) Sneakers For Men  50% off  \n",
       "97                         DAILY 3.0 Sneakers For Men  62% off  \n",
       "98                                   Sneakers For Men  60% off  \n",
       "99  Smart Casuals Canvas Shoes Combo pack of 2 Sne...  67% off  \n",
       "\n",
       "[100 rows x 4 columns]"
      ]
     },
     "execution_count": 146,
     "metadata": {},
     "output_type": "execute_result"
    }
   ],
   "source": [
    "sneakers=pd.DataFrame({})\n",
    "sneakers['Brand']=brand[0:100]\n",
    "sneakers['Price']=price[0:100]\n",
    "sneakers['Description']=prod_des[0:100]\n",
    "sneakers['Discount']=discount[0:100]\n",
    "sneakers"
   ]
  },
  {
   "cell_type": "code",
   "execution_count": null,
   "metadata": {},
   "outputs": [],
   "source": []
  },
  {
   "cell_type": "markdown",
   "metadata": {},
   "source": [
    "# 9.shoes from myntra"
   ]
  },
  {
   "cell_type": "code",
   "execution_count": 147,
   "metadata": {},
   "outputs": [],
   "source": [
    "driver=webdriver.Chrome(r\"C:\\Users\\Dell Laptop\\chromedriver.exe\")"
   ]
  },
  {
   "cell_type": "code",
   "execution_count": 148,
   "metadata": {},
   "outputs": [],
   "source": [
    "url='https://www.myntra.com/shoes?f=Color%3ABlack_36454f&plaEnabled=false&rf=Price%3A5862.0_11575.0_5862.0%20TO%2011575.0%2C4803.0_9067.0_4803.0%20TO%209067.0%2C5907.0_11605.0_5907.0%20TO%2011605.0'"
   ]
  },
  {
   "cell_type": "code",
   "execution_count": 149,
   "metadata": {},
   "outputs": [],
   "source": [
    "driver.get(url)"
   ]
  },
  {
   "cell_type": "code",
   "execution_count": 150,
   "metadata": {},
   "outputs": [],
   "source": [
    "brand=[]\n",
    "description=[]\n",
    "price=[]"
   ]
  },
  {
   "cell_type": "code",
   "execution_count": 155,
   "metadata": {},
   "outputs": [],
   "source": [
    "try:\n",
    "    for i in range(0,4):\n",
    "        brand_tag=driver.find_elements_by_xpath(r\"//h3[@class='product-brand']\")\n",
    "    for i in brand_tag:\n",
    "        brand.append(i.text)\n",
    "        \n",
    "        \n",
    "    des_tag=driver.find_elements_by_xpath(r\"//h4[@class='product-product']\")\n",
    "    for i in des_tag:\n",
    "        description.append(i.text)\n",
    "        \n",
    "    price_tag=driver.find_elements_by_xpath(r\"//span[@class=('product-discountedPrice')]\")\n",
    "    for i in price_tag:\n",
    "        price.append(i.text)\n",
    "    driver.find_element_by_xpath(\"//li[@class='pagination-next']/a\").click()\n",
    "    \n",
    "    \n",
    "except StaleElementReferenceException as e:\n",
    "    \n",
    "    print(\"EXCEPTION RAISED : \",e)\n",
    "    print(\"Refreshing the page!!\")\n",
    "    driver.get('https://www.myntra.com/shoes?f=Color%3ABlack_36454f&plaEnabled=false&rf=Price%3A5862.0_11575.0_5862.0%20TO%2011575.0%2C4803.0_9067.0_4803.0%20TO%209067.0%2C5907.0_11605.0_5907.0%20TO%2011605.0')    \n",
    "    WebDriverWait(Driver,delay).until(EC.presence_of_element_located(By.CLASS_NAME,'product-brand')) \n",
    "    brand_tag=driver.find_elements_by_xpath(r\"//h3[@class='product-brand']\")\n",
    "    for i in brand_tag:\n",
    "        brand.append(i.text)\n",
    "        \n",
    "        \n",
    "    des_tag=driver.find_elements_by_xpath(r\"//h4[@class='product-product']\")\n",
    "    for i in des_tag:\n",
    "        description.append(i.text)\n",
    "        \n",
    "    price_tag=driver.find_elements_by_xpath(r\"//span[@class=('product-discountedPrice')]\")\n",
    "    for i in price_tag:\n",
    "        price.append(i.text)\n",
    "    "
   ]
  },
  {
   "cell_type": "code",
   "execution_count": 156,
   "metadata": {},
   "outputs": [
    {
     "name": "stdout",
     "output_type": "stream",
     "text": [
      "150 150 110\n"
     ]
    }
   ],
   "source": [
    "print(len(brand),len(description),len(price))"
   ]
  },
  {
   "cell_type": "code",
   "execution_count": 157,
   "metadata": {},
   "outputs": [],
   "source": [
    "shoes=pd.DataFrame({})\n",
    "shoes['Brand']=brand[0:100]\n",
    "shoes['Description']=description[0:100]\n",
    "shoes['price']=price[0:100]"
   ]
  },
  {
   "cell_type": "code",
   "execution_count": 158,
   "metadata": {},
   "outputs": [
    {
     "data": {
      "text/html": [
       "<div>\n",
       "<style scoped>\n",
       "    .dataframe tbody tr th:only-of-type {\n",
       "        vertical-align: middle;\n",
       "    }\n",
       "\n",
       "    .dataframe tbody tr th {\n",
       "        vertical-align: top;\n",
       "    }\n",
       "\n",
       "    .dataframe thead th {\n",
       "        text-align: right;\n",
       "    }\n",
       "</style>\n",
       "<table border=\"1\" class=\"dataframe\">\n",
       "  <thead>\n",
       "    <tr style=\"text-align: right;\">\n",
       "      <th></th>\n",
       "      <th>Brand</th>\n",
       "      <th>Description</th>\n",
       "      <th>price</th>\n",
       "    </tr>\n",
       "  </thead>\n",
       "  <tbody>\n",
       "    <tr>\n",
       "      <th>0</th>\n",
       "      <td>Nike</td>\n",
       "      <td>Men REACT PHANTOM Running</td>\n",
       "      <td>Rs. 7799</td>\n",
       "    </tr>\n",
       "    <tr>\n",
       "      <th>1</th>\n",
       "      <td>Nike</td>\n",
       "      <td>Men Zoom Running Shoes</td>\n",
       "      <td>Rs. 6399</td>\n",
       "    </tr>\n",
       "    <tr>\n",
       "      <th>2</th>\n",
       "      <td>Puma</td>\n",
       "      <td>Men HYBRID NETFIT Running Shoe</td>\n",
       "      <td>Rs. 6599</td>\n",
       "    </tr>\n",
       "    <tr>\n",
       "      <th>3</th>\n",
       "      <td>Nike</td>\n",
       "      <td>Men JORDAN ZOOM '92 Shoes</td>\n",
       "      <td>Rs. 9699</td>\n",
       "    </tr>\n",
       "    <tr>\n",
       "      <th>4</th>\n",
       "      <td>ALDO</td>\n",
       "      <td>Men Leather Loafers</td>\n",
       "      <td>Rs. 7799</td>\n",
       "    </tr>\n",
       "    <tr>\n",
       "      <th>...</th>\n",
       "      <td>...</td>\n",
       "      <td>...</td>\n",
       "      <td>...</td>\n",
       "    </tr>\n",
       "    <tr>\n",
       "      <th>95</th>\n",
       "      <td>Ruosh</td>\n",
       "      <td>Men Genuine Leather Monk Shoes</td>\n",
       "      <td>Rs. 5999</td>\n",
       "    </tr>\n",
       "    <tr>\n",
       "      <th>96</th>\n",
       "      <td>Vans</td>\n",
       "      <td>Men Striped Sneakers</td>\n",
       "      <td>Rs. 6293</td>\n",
       "    </tr>\n",
       "    <tr>\n",
       "      <th>97</th>\n",
       "      <td>UNDER ARMOUR</td>\n",
       "      <td>Women Charged Bandit 5 Running</td>\n",
       "      <td>Rs. 4999</td>\n",
       "    </tr>\n",
       "    <tr>\n",
       "      <th>98</th>\n",
       "      <td>Skechers</td>\n",
       "      <td>Women Solid Sneakers</td>\n",
       "      <td>Rs. 4899</td>\n",
       "    </tr>\n",
       "    <tr>\n",
       "      <th>99</th>\n",
       "      <td>UNDER ARMOUR</td>\n",
       "      <td>Men Liquify Running Shoes</td>\n",
       "      <td>Rs. 8999</td>\n",
       "    </tr>\n",
       "  </tbody>\n",
       "</table>\n",
       "<p>100 rows × 3 columns</p>\n",
       "</div>"
      ],
      "text/plain": [
       "           Brand                     Description     price\n",
       "0           Nike       Men REACT PHANTOM Running  Rs. 7799\n",
       "1           Nike          Men Zoom Running Shoes  Rs. 6399\n",
       "2           Puma  Men HYBRID NETFIT Running Shoe  Rs. 6599\n",
       "3           Nike       Men JORDAN ZOOM '92 Shoes  Rs. 9699\n",
       "4           ALDO             Men Leather Loafers  Rs. 7799\n",
       "..           ...                             ...       ...\n",
       "95         Ruosh  Men Genuine Leather Monk Shoes  Rs. 5999\n",
       "96          Vans            Men Striped Sneakers  Rs. 6293\n",
       "97  UNDER ARMOUR  Women Charged Bandit 5 Running  Rs. 4999\n",
       "98      Skechers            Women Solid Sneakers  Rs. 4899\n",
       "99  UNDER ARMOUR       Men Liquify Running Shoes  Rs. 8999\n",
       "\n",
       "[100 rows x 3 columns]"
      ]
     },
     "execution_count": 158,
     "metadata": {},
     "output_type": "execute_result"
    }
   ],
   "source": [
    "shoes"
   ]
  },
  {
   "cell_type": "markdown",
   "metadata": {},
   "source": [
    "# 10.laptop from amazon "
   ]
  },
  {
   "cell_type": "code",
   "execution_count": 159,
   "metadata": {},
   "outputs": [],
   "source": [
    "driver=webdriver.Chrome(r\"C:\\Users\\Dell Laptop\\chromedriver.exe\")"
   ]
  },
  {
   "cell_type": "code",
   "execution_count": 160,
   "metadata": {},
   "outputs": [],
   "source": [
    "url='https://www.amazon.in/s?k=laptop&i=computers&rh=n%3A1375424031%2Cp_n_feature_thirteen_browse-bin%3A12598163031%7C16757432031&dc&qid=1611388225&rnid=12598141031&ref=sr_nr_p_n_feature_thirteen_browse-bin_17'"
   ]
  },
  {
   "cell_type": "code",
   "execution_count": 161,
   "metadata": {},
   "outputs": [],
   "source": [
    "driver.get(url)"
   ]
  },
  {
   "cell_type": "code",
   "execution_count": 162,
   "metadata": {},
   "outputs": [],
   "source": [
    "title=[]\n",
    "price=[]\n",
    "rating=[]"
   ]
  },
  {
   "cell_type": "code",
   "execution_count": 163,
   "metadata": {},
   "outputs": [
    {
     "data": {
      "text/plain": [
       "[<selenium.webdriver.remote.webelement.WebElement (session=\"8b701ade840d1c20c5e471388c4627ad\", element=\"3ba4617b-1183-4a48-ae46-066dc3c08525\")>,\n",
       " <selenium.webdriver.remote.webelement.WebElement (session=\"8b701ade840d1c20c5e471388c4627ad\", element=\"d25ff6db-4820-4f78-b22f-a82a6c6f338a\")>,\n",
       " <selenium.webdriver.remote.webelement.WebElement (session=\"8b701ade840d1c20c5e471388c4627ad\", element=\"8b0c736e-5507-439d-896a-e378d9cee704\")>,\n",
       " <selenium.webdriver.remote.webelement.WebElement (session=\"8b701ade840d1c20c5e471388c4627ad\", element=\"1fd47824-daa8-48ad-bd22-be99ba2ca0eb\")>]"
      ]
     },
     "execution_count": 163,
     "metadata": {},
     "output_type": "execute_result"
    }
   ],
   "source": [
    "title_tage=driver.find_elements_by_xpath(r\"//span[@class='a-size-medium a-color-base a-text-normal']\")\n",
    "title_tage[0:4]"
   ]
  },
  {
   "cell_type": "code",
   "execution_count": 164,
   "metadata": {},
   "outputs": [
    {
     "data": {
      "text/plain": [
       "['Dell Inspiron 5501 15.6 Inch FHD Laptop (10th Gen i7-1065G7/8 GB/512 SSD/2 GB Nvidia Graphics/Win 10 + MS Office H&S 2019/Silver) D560213WIN9S',\n",
       " 'Dell Inspiron 5409 14.0\" FHD WVA AG Display 11th Gen Laptop (i7-1165G7 / 8 GB / 512 SSD / Nvidia MX 350 2GB Graphics / 1 Yr NBD / Win 10 + MS Office H&S / Pebble) D560374WIN9PE',\n",
       " 'Mi Notebook Horizon Edition 14 Intel Core i5-10210U 10th Gen Thin and Light Laptop(8GB/512GB SSD/Windows 10/Nvidia MX350 2GB Graphics/Grey/1.35Kg), XMA1904-AR+Webcam',\n",
       " '(Renewed) Dell Latitude E7470 14-inch Laptop (Core i7 6th Gen/8GB(Up to 16)/1 TB HDD/Windows 10/MS Office Pro 2019/Intel Graphics), Black']"
      ]
     },
     "execution_count": 164,
     "metadata": {},
     "output_type": "execute_result"
    }
   ],
   "source": [
    "for i in title_tage:\n",
    "    name=i.text\n",
    "    title.append(name)\n",
    "    \n",
    "title[0:4] "
   ]
  },
  {
   "cell_type": "code",
   "execution_count": 165,
   "metadata": {},
   "outputs": [
    {
     "data": {
      "text/plain": [
       "[<selenium.webdriver.remote.webelement.WebElement (session=\"8b701ade840d1c20c5e471388c4627ad\", element=\"91c0fdce-6ccc-4e99-8509-3f0a32d54bbe\")>,\n",
       " <selenium.webdriver.remote.webelement.WebElement (session=\"8b701ade840d1c20c5e471388c4627ad\", element=\"6f183668-0fc5-4e57-b2f3-aa5b4971ba71\")>,\n",
       " <selenium.webdriver.remote.webelement.WebElement (session=\"8b701ade840d1c20c5e471388c4627ad\", element=\"74f52ab3-f4de-4370-9832-206cd2531423\")>,\n",
       " <selenium.webdriver.remote.webelement.WebElement (session=\"8b701ade840d1c20c5e471388c4627ad\", element=\"41b95a3a-0ec0-4f3a-bdcc-204cc3391657\")>]"
      ]
     },
     "execution_count": 165,
     "metadata": {},
     "output_type": "execute_result"
    }
   ],
   "source": [
    "price_tage=driver.find_elements_by_xpath(r\"//span[@class='a-price-whole']\")\n",
    "price_tage[0:4]"
   ]
  },
  {
   "cell_type": "code",
   "execution_count": 166,
   "metadata": {},
   "outputs": [
    {
     "data": {
      "text/plain": [
       "['85,890', '86,990', '54,862', '53,599']"
      ]
     },
     "execution_count": 166,
     "metadata": {},
     "output_type": "execute_result"
    }
   ],
   "source": [
    "for i in price_tage:\n",
    "    pro_price=i.text\n",
    "    price.append(pro_price)\n",
    "    \n",
    "price[0:4]   "
   ]
  },
  {
   "cell_type": "code",
   "execution_count": 175,
   "metadata": {},
   "outputs": [
    {
     "data": {
      "text/plain": [
       "[<selenium.webdriver.remote.webelement.WebElement (session=\"8b701ade840d1c20c5e471388c4627ad\", element=\"72e67c1d-284b-45ce-8bae-1f11f5ebe6de\")>,\n",
       " <selenium.webdriver.remote.webelement.WebElement (session=\"8b701ade840d1c20c5e471388c4627ad\", element=\"0bc38e63-56c3-42b6-8edd-0d443e87dda0\")>,\n",
       " <selenium.webdriver.remote.webelement.WebElement (session=\"8b701ade840d1c20c5e471388c4627ad\", element=\"0328eac7-39f7-4930-871a-c683ed6c8a19\")>,\n",
       " <selenium.webdriver.remote.webelement.WebElement (session=\"8b701ade840d1c20c5e471388c4627ad\", element=\"40b71c14-a72d-48b9-9c70-81dfb131d805\")>,\n",
       " <selenium.webdriver.remote.webelement.WebElement (session=\"8b701ade840d1c20c5e471388c4627ad\", element=\"b7de95b1-78f5-4a69-b318-b7606fb01e0f\")>,\n",
       " <selenium.webdriver.remote.webelement.WebElement (session=\"8b701ade840d1c20c5e471388c4627ad\", element=\"606f7446-fb81-405e-b9a1-58abb52e3d32\")>,\n",
       " <selenium.webdriver.remote.webelement.WebElement (session=\"8b701ade840d1c20c5e471388c4627ad\", element=\"41dbbc3b-5b1a-4fcd-b130-bbc795a589f0\")>,\n",
       " <selenium.webdriver.remote.webelement.WebElement (session=\"8b701ade840d1c20c5e471388c4627ad\", element=\"732c4e37-1ef5-4473-ac16-0a4a8998e334\")>,\n",
       " <selenium.webdriver.remote.webelement.WebElement (session=\"8b701ade840d1c20c5e471388c4627ad\", element=\"413bc990-602e-4e30-96cc-44309cdb0eb3\")>,\n",
       " <selenium.webdriver.remote.webelement.WebElement (session=\"8b701ade840d1c20c5e471388c4627ad\", element=\"a601915d-08f8-4523-ace4-5300276bee20\")>,\n",
       " <selenium.webdriver.remote.webelement.WebElement (session=\"8b701ade840d1c20c5e471388c4627ad\", element=\"42a95dbd-608b-467b-a465-c7bdfc305e1e\")>,\n",
       " <selenium.webdriver.remote.webelement.WebElement (session=\"8b701ade840d1c20c5e471388c4627ad\", element=\"ed5481d6-feb1-4542-b7e8-957ce8fdd954\")>,\n",
       " <selenium.webdriver.remote.webelement.WebElement (session=\"8b701ade840d1c20c5e471388c4627ad\", element=\"d4e56543-dc72-4e44-8ce8-14a4f2166b50\")>,\n",
       " <selenium.webdriver.remote.webelement.WebElement (session=\"8b701ade840d1c20c5e471388c4627ad\", element=\"e48d6e8d-bb90-4402-83ab-a499a098debc\")>,\n",
       " <selenium.webdriver.remote.webelement.WebElement (session=\"8b701ade840d1c20c5e471388c4627ad\", element=\"ac076d67-7b9f-41d3-be44-42152abebaeb\")>,\n",
       " <selenium.webdriver.remote.webelement.WebElement (session=\"8b701ade840d1c20c5e471388c4627ad\", element=\"1514fa7f-482c-492f-bba5-212837e29164\")>,\n",
       " <selenium.webdriver.remote.webelement.WebElement (session=\"8b701ade840d1c20c5e471388c4627ad\", element=\"c59bba95-650e-4e88-bbb9-aba5df1a905a\")>,\n",
       " <selenium.webdriver.remote.webelement.WebElement (session=\"8b701ade840d1c20c5e471388c4627ad\", element=\"6b196221-aff8-4958-9b27-638bd91d988a\")>,\n",
       " <selenium.webdriver.remote.webelement.WebElement (session=\"8b701ade840d1c20c5e471388c4627ad\", element=\"2d71d675-7402-4e9b-8209-763fe1813df3\")>,\n",
       " <selenium.webdriver.remote.webelement.WebElement (session=\"8b701ade840d1c20c5e471388c4627ad\", element=\"ddf4dfb0-ed07-4160-ade2-6bdcdce548ba\")>]"
      ]
     },
     "execution_count": 175,
     "metadata": {},
     "output_type": "execute_result"
    }
   ],
   "source": [
    "rating_tag=driver.find_elements_by_xpath(r\"//span[@class='a-icon-alt']\")\n",
    "rating_tag"
   ]
  },
  {
   "cell_type": "code",
   "execution_count": 177,
   "metadata": {},
   "outputs": [
    {
     "data": {
      "text/plain": [
       "['9', '17', '382', '9', '5']"
      ]
     },
     "execution_count": 177,
     "metadata": {},
     "output_type": "execute_result"
    }
   ],
   "source": [
    "for i in rating_tag:\n",
    "    rating.append(i.text)\n",
    "    \n",
    "rating[:5]    "
   ]
  },
  {
   "cell_type": "code",
   "execution_count": 178,
   "metadata": {},
   "outputs": [],
   "source": [
    "laptop=pd.DataFrame({})\n",
    "laptop['title']=title[0:10]\n",
    "laptop['price']=price[0:10]"
   ]
  },
  {
   "cell_type": "code",
   "execution_count": 179,
   "metadata": {},
   "outputs": [
    {
     "data": {
      "text/html": [
       "<div>\n",
       "<style scoped>\n",
       "    .dataframe tbody tr th:only-of-type {\n",
       "        vertical-align: middle;\n",
       "    }\n",
       "\n",
       "    .dataframe tbody tr th {\n",
       "        vertical-align: top;\n",
       "    }\n",
       "\n",
       "    .dataframe thead th {\n",
       "        text-align: right;\n",
       "    }\n",
       "</style>\n",
       "<table border=\"1\" class=\"dataframe\">\n",
       "  <thead>\n",
       "    <tr style=\"text-align: right;\">\n",
       "      <th></th>\n",
       "      <th>title</th>\n",
       "      <th>price</th>\n",
       "    </tr>\n",
       "  </thead>\n",
       "  <tbody>\n",
       "    <tr>\n",
       "      <th>0</th>\n",
       "      <td>Dell Inspiron 5501 15.6 Inch FHD Laptop (10th ...</td>\n",
       "      <td>85,890</td>\n",
       "    </tr>\n",
       "    <tr>\n",
       "      <th>1</th>\n",
       "      <td>Dell Inspiron 5409 14.0\" FHD WVA AG Display 11...</td>\n",
       "      <td>86,990</td>\n",
       "    </tr>\n",
       "    <tr>\n",
       "      <th>2</th>\n",
       "      <td>Mi Notebook Horizon Edition 14 Intel Core i5-1...</td>\n",
       "      <td>54,862</td>\n",
       "    </tr>\n",
       "    <tr>\n",
       "      <th>3</th>\n",
       "      <td>(Renewed) Dell Latitude E7470 14-inch Laptop (...</td>\n",
       "      <td>53,599</td>\n",
       "    </tr>\n",
       "    <tr>\n",
       "      <th>4</th>\n",
       "      <td>(Renewed) Dell Latitude E7470 14-inch Laptop (...</td>\n",
       "      <td>55,299</td>\n",
       "    </tr>\n",
       "    <tr>\n",
       "      <th>5</th>\n",
       "      <td>(Renewed) Dell Latitude E7470 14-inch Laptop (...</td>\n",
       "      <td>52,699</td>\n",
       "    </tr>\n",
       "    <tr>\n",
       "      <th>6</th>\n",
       "      <td>(Renewed) Dell Latitude E7470 14-inch Laptop (...</td>\n",
       "      <td>54,399</td>\n",
       "    </tr>\n",
       "    <tr>\n",
       "      <th>7</th>\n",
       "      <td>MSI GF63 Thin Core i7 9th Gen - (8 GB/512 GB S...</td>\n",
       "      <td>70,990</td>\n",
       "    </tr>\n",
       "    <tr>\n",
       "      <th>8</th>\n",
       "      <td>Lenovo Yoga S740 Intel Core i7 10th Gen 14 inc...</td>\n",
       "      <td>96,901</td>\n",
       "    </tr>\n",
       "    <tr>\n",
       "      <th>9</th>\n",
       "      <td>Lenovo IdeaPad Gaming 3i 10th Gen Intel Core i...</td>\n",
       "      <td>74,990</td>\n",
       "    </tr>\n",
       "  </tbody>\n",
       "</table>\n",
       "</div>"
      ],
      "text/plain": [
       "                                               title   price\n",
       "0  Dell Inspiron 5501 15.6 Inch FHD Laptop (10th ...  85,890\n",
       "1  Dell Inspiron 5409 14.0\" FHD WVA AG Display 11...  86,990\n",
       "2  Mi Notebook Horizon Edition 14 Intel Core i5-1...  54,862\n",
       "3  (Renewed) Dell Latitude E7470 14-inch Laptop (...  53,599\n",
       "4  (Renewed) Dell Latitude E7470 14-inch Laptop (...  55,299\n",
       "5  (Renewed) Dell Latitude E7470 14-inch Laptop (...  52,699\n",
       "6  (Renewed) Dell Latitude E7470 14-inch Laptop (...  54,399\n",
       "7  MSI GF63 Thin Core i7 9th Gen - (8 GB/512 GB S...  70,990\n",
       "8  Lenovo Yoga S740 Intel Core i7 10th Gen 14 inc...  96,901\n",
       "9  Lenovo IdeaPad Gaming 3i 10th Gen Intel Core i...  74,990"
      ]
     },
     "execution_count": 179,
     "metadata": {},
     "output_type": "execute_result"
    }
   ],
   "source": [
    "laptop"
   ]
  },
  {
   "cell_type": "code",
   "execution_count": null,
   "metadata": {},
   "outputs": [],
   "source": []
  }
 ],
 "metadata": {
  "kernelspec": {
   "display_name": "Python 3",
   "language": "python",
   "name": "python3"
  },
  "language_info": {
   "codemirror_mode": {
    "name": "ipython",
    "version": 3
   },
   "file_extension": ".py",
   "mimetype": "text/x-python",
   "name": "python",
   "nbconvert_exporter": "python",
   "pygments_lexer": "ipython3",
   "version": "3.8.3"
  }
 },
 "nbformat": 4,
 "nbformat_minor": 4
}
